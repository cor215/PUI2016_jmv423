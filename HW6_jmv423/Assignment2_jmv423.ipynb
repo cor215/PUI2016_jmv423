{
 "cells": [
  {
   "cell_type": "code",
   "execution_count": 1,
   "metadata": {
    "collapsed": false
   },
   "outputs": [
    {
     "name": "stderr",
     "output_type": "stream",
     "text": [
      "/Users/JordanVani/anaconda/lib/python2.7/site-packages/IPython/html.py:14: ShimWarning: The `IPython.html` package has been deprecated. You should import from `notebook` instead. `IPython.html.widgets` has moved to `ipywidgets`.\n",
      "  \"`IPython.html.widgets` has moved to `ipywidgets`.\", ShimWarning)\n"
     ]
    }
   ],
   "source": [
    "import seaborn\n",
    "import scipy.stats as sc\n",
    "import numpy as np\n",
    "import pandas as pd\n",
    "import datetime as dt\n",
    "import matplotlib.pylab as pl\n",
    "%matplotlib inline"
   ]
  },
  {
   "cell_type": "code",
   "execution_count": 2,
   "metadata": {
    "collapsed": false
   },
   "outputs": [
    {
     "data": {
      "text/html": [
       "<div>\n",
       "<table border=\"1\" class=\"dataframe\">\n",
       "  <thead>\n",
       "    <tr style=\"text-align: right;\">\n",
       "      <th></th>\n",
       "      <th>Date</th>\n",
       "      <th>24-Hour Passes Purchased (midnight to 11:59 pm)</th>\n",
       "      <th>days</th>\n",
       "    </tr>\n",
       "  </thead>\n",
       "  <tbody>\n",
       "    <tr>\n",
       "      <th>0</th>\n",
       "      <td>2016-04-01</td>\n",
       "      <td>1113</td>\n",
       "      <td>Friday</td>\n",
       "    </tr>\n",
       "    <tr>\n",
       "      <th>1</th>\n",
       "      <td>2016-04-02</td>\n",
       "      <td>1193</td>\n",
       "      <td>Saturday</td>\n",
       "    </tr>\n",
       "    <tr>\n",
       "      <th>2</th>\n",
       "      <td>2016-04-03</td>\n",
       "      <td>448</td>\n",
       "      <td>Sunday</td>\n",
       "    </tr>\n",
       "    <tr>\n",
       "      <th>3</th>\n",
       "      <td>2016-04-04</td>\n",
       "      <td>49</td>\n",
       "      <td>Monday</td>\n",
       "    </tr>\n",
       "    <tr>\n",
       "      <th>4</th>\n",
       "      <td>2016-04-05</td>\n",
       "      <td>341</td>\n",
       "      <td>Tuesday</td>\n",
       "    </tr>\n",
       "  </tbody>\n",
       "</table>\n",
       "</div>"
      ],
      "text/plain": [
       "        Date  24-Hour Passes Purchased (midnight to 11:59 pm)      days\n",
       "0 2016-04-01                                             1113    Friday\n",
       "1 2016-04-02                                             1193  Saturday\n",
       "2 2016-04-03                                              448    Sunday\n",
       "3 2016-04-04                                               49    Monday\n",
       "4 2016-04-05                                              341   Tuesday"
      ]
     },
     "execution_count": 2,
     "metadata": {},
     "output_type": "execute_result"
    }
   ],
   "source": [
    "df = pd.read_csv('https://raw.githubusercontent.com/jvani/PUI2016_jmv423/master/HW3_jmv423/CitiBike.csv')\n",
    "df = df.drop(df.columns[[1,2,3,4,5,7,8]], axis=1)\n",
    "df['Date'] = pd.to_datetime(df['Date'])\n",
    "df1 = df.copy()\n",
    "df1['days'] = df[['Date']].apply(lambda x: dt.datetime.strftime(x['Date'], '%A'), axis=1)\n",
    "df1.head()"
   ]
  },
  {
   "cell_type": "code",
   "execution_count": 3,
   "metadata": {
    "collapsed": false
   },
   "outputs": [
    {
     "data": {
      "text/plain": [
       "<matplotlib.text.Text at 0x1168cfd90>"
      ]
     },
     "execution_count": 3,
     "metadata": {},
     "output_type": "execute_result"
    },
    {
     "data": {
      "image/png": "[encoded data removed]",
      "text/plain": [
       "<matplotlib.figure.Figure at 0x114e59990>"
      ]
     },
     "metadata": {},
     "output_type": "display_data"
    }
   ],
   "source": [
    "df1_grouped = df1.groupby(['days'])['24-Hour Passes Purchased (midnight to 11:59 pm)'].mean().reset_index()\n",
    "weekdays = ['Monday', 'Tuesday', 'Wednesday', 'Thursday', 'Friday', 'Saturday', 'Sunday']\n",
    "mapping = {day: i for i, day in enumerate(weekdays)}\n",
    "key = df1_grouped['days'].map(mapping)    \n",
    "df1_grouped = df1_grouped.iloc[key.argsort()]\n",
    "\n",
    "ax = df1_grouped.plot(kind = 'bar', x = 'days', figsize = (10,4))\n",
    "ax.set_ylabel('Mean of Passes Purchased')\n",
    "ax.set_xlabel('Days')\n",
    "ax.set_title('24-Hour Citibike Passes Purchase by Day of the Week (Q2 2016)', fontsize = 14)\n",
    "#ax.text(-0.4,-1600,'Figure 1. Citibike 24hr pass mean purchase count by day of the week in the second \\\n",
    "#quarter of 2016.', fontsize = 12)"
   ]
  },
  {
   "cell_type": "markdown",
   "metadata": {},
   "source": [
    "### Idea: There are more 24-hour passes sold on the weekend than on weekdays.\n",
    "\n",
    "$H_o$: There are equal or significantly less 24-hour citibike passes sold on the weekend compared to weekdays for the second quarter of 2016 (p=0.05).\n",
    "\n",
    "$H_a$: There are significantly more 24-hour citibike passes sold on the weekend compared to weekdays for the second quarter of 2016 (p=0.05)."
   ]
  },
  {
   "cell_type": "code",
   "execution_count": 4,
   "metadata": {
    "collapsed": false
   },
   "outputs": [
    {
     "data": {
      "text/plain": [
       "<matplotlib.text.Text at 0x11933b150>"
      ]
     },
     "execution_count": 4,
     "metadata": {},
     "output_type": "execute_result"
    },
    {
     "data": {
      "image/png": "[encoded data removed]",
      "text/plain": [
       "<matplotlib.figure.Figure at 0x1145b4550>"
      ]
     },
     "metadata": {},
     "output_type": "display_data"
    }
   ],
   "source": [
    "a = ['Saturday', 'Sunday']\n",
    "df1['weekend'] = df1.days.isin(a)\n",
    "\n",
    "weekend = df1.query('weekend == True')\n",
    "weekday = df1.query('weekend == False')\n",
    "weekend = weekend['24-Hour Passes Purchased (midnight to 11:59 pm)']\n",
    "weekday = weekday['24-Hour Passes Purchased (midnight to 11:59 pm)']\n",
    "boxdata = [weekend, weekday]\n",
    "\n",
    "fig, (ax1) = pl.subplots(nrows = 1, ncols = 1, figsize = (16,3))\n",
    "box = ax1.boxplot(boxdata, vert = False, widths = 0.5, patch_artist = True,\n",
    "                 labels = ['Weekend', 'Weekday'])\n",
    "colors = ['g', 'k']\n",
    "for patch, x in zip(box['boxes'], colors): \n",
    "    patch.set(facecolor = x, alpha=0.6, linewidth = 0)\n",
    "pl.setp(box['whiskers'], color = 'k', linestyle='-')\n",
    "ax1.set_title('24-Hour Citibike Passes Sold for Weekdays and Weekends (Q2 2016)', fontsize = 14)\n",
    "ax1.set_xlabel('24-Hour Passes Sold')\n",
    "#ax1.text(0, -0.2, 'Figure 2. Boxplot of 24-hour citibike passes sold in the second quarter of 2016.\\\n",
    "#As illustrated, the median number of passes sold and the interquartile range is apparently less \\\n",
    "#for weekdays than for the \\nweekend.')"
   ]
  },
  {
   "cell_type": "code",
   "execution_count": 5,
   "metadata": {
    "collapsed": false
   },
   "outputs": [
    {
     "data": {
      "text/plain": [
       "count      26.000000\n",
       "mean     3072.153846\n",
       "std      1595.688408\n",
       "min       260.000000\n",
       "25%      1942.250000\n",
       "50%      3383.500000\n",
       "75%      4058.250000\n",
       "max      6432.000000\n",
       "Name: 24-Hour Passes Purchased (midnight to 11:59 pm), dtype: float64"
      ]
     },
     "execution_count": 5,
     "metadata": {},
     "output_type": "execute_result"
    }
   ],
   "source": [
    "weekend.describe()"
   ]
  },
  {
   "cell_type": "code",
   "execution_count": 6,
   "metadata": {
    "collapsed": false
   },
   "outputs": [
    {
     "data": {
      "text/plain": [
       "count      65.000000\n",
       "mean     1287.923077\n",
       "std       672.609455\n",
       "min        49.000000\n",
       "25%       927.000000\n",
       "50%      1331.000000\n",
       "75%      1549.000000\n",
       "max      4230.000000\n",
       "Name: 24-Hour Passes Purchased (midnight to 11:59 pm), dtype: float64"
      ]
     },
     "execution_count": 6,
     "metadata": {},
     "output_type": "execute_result"
    }
   ],
   "source": [
    "weekday.describe()"
   ]
  },
  {
   "cell_type": "code",
   "execution_count": 7,
   "metadata": {
    "collapsed": false
   },
   "outputs": [
    {
     "data": {
      "text/plain": [
       "Ttest_indResult(statistic=5.5090988756907748, pvalue=6.4350141869036306e-06)"
      ]
     },
     "execution_count": 7,
     "metadata": {},
     "output_type": "execute_result"
    }
   ],
   "source": [
    "sc.ttest_ind(weekend, weekday, axis=0, equal_var=False)"
   ]
  },
  {
   "cell_type": "markdown",
   "metadata": {},
   "source": [
    "#### Since the p-value is < 0.05 we can reject the null hypothesis and accept the alternative hypothesis: there are significantly more 24-hour citibike passes sold on the weekend compared to weekdays for the second quarter of 2016 (p=0.05)."
   ]
  }
 ],
 "metadata": {
  "kernelspec": {
   "display_name": "Python 2",
   "language": "python",
   "name": "python2"
  },
  "language_info": {
   "codemirror_mode": {
    "name": "ipython",
    "version": 2
   },
   "file_extension": ".py",
   "mimetype": "text/x-python",
   "name": "python",
   "nbconvert_exporter": "python",
   "pygments_lexer": "ipython2",
   "version": "2.7.12"
  }
 },
 "nbformat": 4,
 "nbformat_minor": 1
}
