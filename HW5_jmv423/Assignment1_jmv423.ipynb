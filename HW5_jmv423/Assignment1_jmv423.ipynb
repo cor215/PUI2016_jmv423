{
 "cells": [
  {
   "cell_type": "code",
   "execution_count": 9,
   "metadata": {
    "collapsed": false
   },
   "outputs": [],
   "source": [
    "import matplotlib.pylab as pl\n",
    "import pandas as pd\n",
    "import numpy as np\n",
    "import scipy.stats\n",
    "from urllib import urlopen\n",
    "from zipfile import ZipFile\n",
    "from StringIO import StringIO\n",
    "import seaborn\n",
    "%matplotlib inline"
   ]
  },
  {
   "cell_type": "markdown",
   "metadata": {},
   "source": [
    "# Assignment 1: Compare Tests for Goodness of Fit\n",
    "Question: Is there a difference between the age distribution of citibike riders and the gaussian distribution?\n",
    "\n",
    "$H_o$: There is no significant difference (p=0.05) between the age distribution of citibike riders and the gaussian distribution.\n",
    "\n",
    "$H_a$: There is a significant difference (p=0.05) between the age distribution of citibike riders and the gaussian distribution."
   ]
  },
  {
   "cell_type": "code",
   "execution_count": 2,
   "metadata": {
    "collapsed": false
   },
   "outputs": [
    {
     "data": {
      "text/html": [
       "<div>\n",
       "<table border=\"1\" class=\"dataframe\">\n",
       "  <thead>\n",
       "    <tr style=\"text-align: right;\">\n",
       "      <th></th>\n",
       "      <th>birthyear</th>\n",
       "      <th>lat</th>\n",
       "      <th>long</th>\n",
       "      <th>age</th>\n",
       "    </tr>\n",
       "  </thead>\n",
       "  <tbody>\n",
       "    <tr>\n",
       "      <th>0</th>\n",
       "      <td>1972.0</td>\n",
       "      <td>40.734011</td>\n",
       "      <td>-74.002939</td>\n",
       "      <td>44.0</td>\n",
       "    </tr>\n",
       "    <tr>\n",
       "      <th>1</th>\n",
       "      <td>1967.0</td>\n",
       "      <td>40.719009</td>\n",
       "      <td>-73.958525</td>\n",
       "      <td>49.0</td>\n",
       "    </tr>\n",
       "    <tr>\n",
       "      <th>2</th>\n",
       "      <td>1989.0</td>\n",
       "      <td>40.764618</td>\n",
       "      <td>-73.987895</td>\n",
       "      <td>27.0</td>\n",
       "    </tr>\n",
       "    <tr>\n",
       "      <th>3</th>\n",
       "      <td>1991.0</td>\n",
       "      <td>40.757148</td>\n",
       "      <td>-73.972078</td>\n",
       "      <td>25.0</td>\n",
       "    </tr>\n",
       "    <tr>\n",
       "      <th>4</th>\n",
       "      <td>1989.0</td>\n",
       "      <td>40.729039</td>\n",
       "      <td>-73.994046</td>\n",
       "      <td>27.0</td>\n",
       "    </tr>\n",
       "  </tbody>\n",
       "</table>\n",
       "</div>"
      ],
      "text/plain": [
       "   birthyear        lat       long   age\n",
       "0     1972.0  40.734011 -74.002939  44.0\n",
       "1     1967.0  40.719009 -73.958525  49.0\n",
       "2     1989.0  40.764618 -73.987895  27.0\n",
       "3     1991.0  40.757148 -73.972078  25.0\n",
       "4     1989.0  40.729039 -73.994046  27.0"
      ]
     },
     "execution_count": 2,
     "metadata": {},
     "output_type": "execute_result"
    }
   ],
   "source": [
    "#Loading citibike data.\n",
    "url = urlopen(\"https://s3.amazonaws.com/tripdata/201606-citibike-tripdata.zip\").read()\n",
    "unzip = ZipFile(StringIO(url))\n",
    "data =  unzip.open('201606-citibike-tripdata.csv')\n",
    "df = pd.read_csv(data)z\n",
    "df = df[['birth year', 'start station latitude', 'start station longitude']].copy()\n",
    "df = df.rename(columns = {'birth year' : 'birthyear', 'start station latitude' : 'lat',\n",
    "                          'start station longitude' : 'long' })\n",
    "df['age'] = 2016 - df.birthyear\n",
    "df.dropna(0, 'any', inplace = True)\n",
    "df.head()"
   ]
  },
  {
   "cell_type": "code",
   "execution_count": 3,
   "metadata": {
    "collapsed": false
   },
   "outputs": [],
   "source": [
    "#Generate distributions\n",
    "norm = np.random.normal(df.age.mean(), df.age.std(), size = len(df))\n",
    "dfn = pd.DataFrame(norm)\n",
    "dfn.columns = [\"NormalDist\"]\n",
    "chis = np.random.chisquare(df.age.mean(), size = len(df))\n",
    "dfc = pd.DataFrame(chis)\n",
    "dfc.columns = [\"ChiDist\"]"
   ]
  },
  {
   "cell_type": "code",
   "execution_count": 4,
   "metadata": {
    "collapsed": false,
    "scrolled": true
   },
   "outputs": [
    {
     "data": {
      "text/plain": [
       "<matplotlib.text.Text at 0x100435290>"
      ]
     },
     "execution_count": 4,
     "metadata": {},
     "output_type": "execute_result"
    },
    {
     "data": {
      "image/png": "[encoded data removed]",
      "text/plain": [
       "<matplotlib.figure.Figure at 0x12c8dab50>"
      ]
     },
     "metadata": {},
     "output_type": "display_data"
    }
   ],
   "source": [
    "b = np.arange(10, 99, 5)\n",
    "fig, (ax, axn, axc) = pl.subplots(nrows = 1, ncols = 3, figsize = (16,5))\n",
    "pl.tight_layout(pad = 5)\n",
    "#Citibike Dist\n",
    "ax.hist(df['age'], bins = b, alpha = 0.6)\n",
    "ax.axis([0, 100, 0, 300000])\n",
    "ax.set_ylabel('Count')\n",
    "ax.set_xlabel('Age')\n",
    "ax.set_title('A) Citibike User Age Distribution')\n",
    "#Normal Dist\n",
    "axn.hist(dfn['NormalDist'], bins = b, alpha = 0.6, facecolor = 'g')\n",
    "axn.axis([0, 100, 0, 300000])\n",
    "axn.set_ylabel('Count')\n",
    "axn.set_xlabel('Age')\n",
    "axn.set_title('B) Normal Distribution')\n",
    "#Chi Square Dist\n",
    "axc.hist(dfc['ChiDist'], bins = b, alpha = 0.6, facecolor = 'orange')\n",
    "axc.axis([0, 100, 0, 300000])\n",
    "axc.set_ylabel('Count')\n",
    "axc.set_xlabel('Age')\n",
    "axc.set_title('C) Chi Square Distribution')\n",
    "fig.text(0.06, 0, \"\"\"Figure 1. Side by side comparison of (a) citibike user \\\n",
    "age disitribution, (b) a normal distribution, and (c) a chi square distribution with equal mean.\"\"\", fontsize = 12)"
   ]
  },
  {
   "cell_type": "markdown",
   "metadata": {},
   "source": [
    "## KS Test\n",
    "### Citibike User Age Distribution vs. Normal Distribution"
   ]
  },
  {
   "cell_type": "code",
   "execution_count": 5,
   "metadata": {
    "collapsed": false
   },
   "outputs": [
    {
     "name": "stdout",
     "output_type": "stream",
     "text": [
      "Ks_2sampResult(statistic=0.10908836529888261, pvalue=0.0)\n"
     ]
    }
   ],
   "source": [
    "ks1 = scipy.stats.ks_2samp(df.age, dfn.NormalDist)\n",
    "print (ks1)"
   ]
  },
  {
   "cell_type": "markdown",
   "metadata": {},
   "source": [
    "###### Since p<0.05 we can reject the null hypothesis and accept the alternative: There is a significant difference (p=0.05) between the age distribution of citibike riders and the gaussian distribution.\n",
    "\n",
    "### Citibike User Age Distribution vs. Chi Square Distribution"
   ]
  },
  {
   "cell_type": "code",
   "execution_count": 6,
   "metadata": {
    "collapsed": false
   },
   "outputs": [
    {
     "name": "stdout",
     "output_type": "stream",
     "text": [
      "Ks_2sampResult(statistic=0.1410799992411739, pvalue=0.0)\n"
     ]
    }
   ],
   "source": [
    "ks2 = scipy.stats.ks_2samp(df.age, dfc.ChiDist)\n",
    "print (ks2)"
   ]
  },
  {
   "cell_type": "markdown",
   "metadata": {},
   "source": [
    "###### Since p<0.05 we can reject the null hypothesis and accept the alternative: There is a significant difference (p=0.05) between the age distribution of citibike riders and the chi square distribution.\n",
    "\n",
    "## Chi Square Test\n",
    "### Citibike User Age Distribution vs. Normal Distribution"
   ]
  },
  {
   "cell_type": "code",
   "execution_count": 7,
   "metadata": {
    "collapsed": false
   },
   "outputs": [
    {
     "data": {
      "text/plain": [
       "Power_divergenceResult(statistic=12588705.338830354, pvalue=0.0)"
      ]
     },
     "execution_count": 7,
     "metadata": {},
     "output_type": "execute_result"
    }
   ],
   "source": [
    "scipy.stats.chisquare(df.age, dfn.NormalDist)"
   ]
  },
  {
   "cell_type": "markdown",
   "metadata": {},
   "source": [
    "##### Since p<0.05 we can reject the null hypothesis and accept the alternative: There is a significant difference (p=0.05) between the age distribution of citibike riders and the gaussian distribution.\n",
    "### Citibike User Age Distribution vs. Chi Square Distribution"
   ]
  },
  {
   "cell_type": "code",
   "execution_count": 8,
   "metadata": {
    "collapsed": false
   },
   "outputs": [
    {
     "data": {
      "text/plain": [
       "Power_divergenceResult(statistic=7326002.6804391947, pvalue=0.0)"
      ]
     },
     "execution_count": 8,
     "metadata": {},
     "output_type": "execute_result"
    }
   ],
   "source": [
    "scipy.stats.chisquare(df.age, dfc.ChiDist)"
   ]
  },
  {
   "cell_type": "markdown",
   "metadata": {},
   "source": [
    "##### Since p<0.05 we can reject the null hypothesis and accept the alternative: There is a significant difference (p=0.05) between the age distribution of citibike riders and the chi square distribution."
   ]
  }
 ],
 "metadata": {
  "kernelspec": {
   "display_name": "Python 2",
   "language": "python",
   "name": "python2"
  },
  "language_info": {
   "codemirror_mode": {
    "name": "ipython",
    "version": 2
   },
   "file_extension": ".py",
   "mimetype": "text/x-python",
   "name": "python",
   "nbconvert_exporter": "python",
   "pygments_lexer": "ipython2",
   "version": "2.7.12"
  }
 },
 "nbformat": 4,
 "nbformat_minor": 1
}
