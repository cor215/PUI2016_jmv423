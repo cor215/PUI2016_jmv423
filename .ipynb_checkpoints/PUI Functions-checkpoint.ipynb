{
 "cells": [
  {
   "cell_type": "code",
   "execution_count": 2,
   "metadata": {
    "collapsed": true
   },
   "outputs": [],
   "source": [
    "import os\n",
    "import sys\n",
    "import numpy as np\n",
    "import pandas as pd\n",
    "import matplotlib.pyplot as pl\n",
    "%matplotlib inline"
   ]
  },
  {
   "cell_type": "markdown",
   "metadata": {},
   "source": [
    "#### To do: \n",
    "Add a DFDATA environmental variable to compute."
   ]
  },
  {
   "cell_type": "markdown",
   "metadata": {},
   "source": [
    "### Functions"
   ]
  },
  {
   "cell_type": "code",
   "execution_count": 3,
   "metadata": {
    "collapsed": true
   },
   "outputs": [],
   "source": [
    "#Create z-test function or find one to use."
   ]
  },
  {
   "cell_type": "markdown",
   "metadata": {},
   "source": [
    "### Snippets"
   ]
  },
  {
   "cell_type": "code",
   "execution_count": null,
   "metadata": {
    "collapsed": false
   },
   "outputs": [],
   "source": [
    "#Homework 1\n",
    "np.random.seed(1) #Seed random data so your code is reproducible.\n",
    "np.random.randn(2,100) #Create 2*100 array of random variables distributed along a normal distribution.\n",
    "np.zeros((50, 2, 100)) #Create 50*2*100 arrays of zeros.\n",
    "\n",
    "#Homework 2\n",
    "pd.read_csv() #Load data to DataFrame from csv.\n",
    "df = df[[1,10,15]] #Create DataFrame based on slice of df.\n",
    "df = df.drop([90]) #Drop indexed row.\n",
    "df['Column'] = pd.to_datetime(df['Column']) #Convert and set date column to datetime.\n",
    "\n",
    "#Homework 3\n",
    "df.drop(df.columns[[1,2,3,4,5,7,8]], axis=1) #Drop indexed column, either set or do inplace.\n",
    "df1.groupby(['x'])['y'].mean().plot(kind='bar') #Group df by x and calculate mean of y. Plot as bar plot.\n",
    "\n",
    "#Homework 4"
   ]
  },
  {
   "cell_type": "code",
   "execution_count": null,
   "metadata": {
    "collapsed": true
   },
   "outputs": [],
   "source": []
  }
 ],
 "metadata": {
  "kernelspec": {
   "display_name": "Python 3",
   "language": "python",
   "name": "python3"
  },
  "language_info": {
   "codemirror_mode": {
    "name": "ipython",
    "version": 3
   },
   "file_extension": ".py",
   "mimetype": "text/x-python",
   "name": "python",
   "nbconvert_exporter": "python",
   "pygments_lexer": "ipython3",
   "version": "3.5.2"
  }
 },
 "nbformat": 4,
 "nbformat_minor": 1
}
