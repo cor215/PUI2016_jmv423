{
 "cells": [
  {
   "cell_type": "code",
   "execution_count": 1,
   "metadata": {
    "collapsed": false
   },
   "outputs": [
    {
     "data": {
      "text/html": [
       "<div>\n",
       "<table border=\"1\" class=\"dataframe\">\n",
       "  <thead>\n",
       "    <tr style=\"text-align: right;\">\n",
       "      <th></th>\n",
       "      <th>tripduration</th>\n",
       "      <th>starttime</th>\n",
       "      <th>stoptime</th>\n",
       "      <th>start station id</th>\n",
       "      <th>start station name</th>\n",
       "      <th>start station latitude</th>\n",
       "      <th>start station longitude</th>\n",
       "      <th>end station id</th>\n",
       "      <th>end station name</th>\n",
       "      <th>end station latitude</th>\n",
       "      <th>end station longitude</th>\n",
       "      <th>bikeid</th>\n",
       "      <th>usertype</th>\n",
       "      <th>birth year</th>\n",
       "      <th>gender</th>\n",
       "    </tr>\n",
       "  </thead>\n",
       "  <tbody>\n",
       "    <tr>\n",
       "      <th>0</th>\n",
       "      <td>1470</td>\n",
       "      <td>6/1/2016 00:00:18</td>\n",
       "      <td>6/1/2016 00:24:48</td>\n",
       "      <td>380</td>\n",
       "      <td>W 4 St &amp; 7 Ave S</td>\n",
       "      <td>40.734011</td>\n",
       "      <td>-74.002939</td>\n",
       "      <td>3236</td>\n",
       "      <td>W 42 St &amp; Dyer Ave</td>\n",
       "      <td>40.758985</td>\n",
       "      <td>-73.993800</td>\n",
       "      <td>19859</td>\n",
       "      <td>Subscriber</td>\n",
       "      <td>1972.0</td>\n",
       "      <td>1</td>\n",
       "    </tr>\n",
       "    <tr>\n",
       "      <th>1</th>\n",
       "      <td>229</td>\n",
       "      <td>6/1/2016 00:00:20</td>\n",
       "      <td>6/1/2016 00:04:09</td>\n",
       "      <td>3092</td>\n",
       "      <td>Berry St &amp; N 8 St</td>\n",
       "      <td>40.719009</td>\n",
       "      <td>-73.958525</td>\n",
       "      <td>3103</td>\n",
       "      <td>N 11 St &amp; Wythe Ave</td>\n",
       "      <td>40.721533</td>\n",
       "      <td>-73.957824</td>\n",
       "      <td>16233</td>\n",
       "      <td>Subscriber</td>\n",
       "      <td>1967.0</td>\n",
       "      <td>1</td>\n",
       "    </tr>\n",
       "    <tr>\n",
       "      <th>2</th>\n",
       "      <td>344</td>\n",
       "      <td>6/1/2016 00:00:21</td>\n",
       "      <td>6/1/2016 00:06:06</td>\n",
       "      <td>449</td>\n",
       "      <td>W 52 St &amp; 9 Ave</td>\n",
       "      <td>40.764618</td>\n",
       "      <td>-73.987895</td>\n",
       "      <td>469</td>\n",
       "      <td>Broadway &amp; W 53 St</td>\n",
       "      <td>40.763441</td>\n",
       "      <td>-73.982681</td>\n",
       "      <td>22397</td>\n",
       "      <td>Subscriber</td>\n",
       "      <td>1989.0</td>\n",
       "      <td>1</td>\n",
       "    </tr>\n",
       "    <tr>\n",
       "      <th>3</th>\n",
       "      <td>1120</td>\n",
       "      <td>6/1/2016 00:00:28</td>\n",
       "      <td>6/1/2016 00:19:09</td>\n",
       "      <td>522</td>\n",
       "      <td>E 51 St &amp; Lexington Ave</td>\n",
       "      <td>40.757148</td>\n",
       "      <td>-73.972078</td>\n",
       "      <td>401</td>\n",
       "      <td>Allen St &amp; Rivington St</td>\n",
       "      <td>40.720196</td>\n",
       "      <td>-73.989978</td>\n",
       "      <td>16231</td>\n",
       "      <td>Subscriber</td>\n",
       "      <td>1991.0</td>\n",
       "      <td>1</td>\n",
       "    </tr>\n",
       "    <tr>\n",
       "      <th>4</th>\n",
       "      <td>229</td>\n",
       "      <td>6/1/2016 00:00:53</td>\n",
       "      <td>6/1/2016 00:04:42</td>\n",
       "      <td>335</td>\n",
       "      <td>Washington Pl &amp; Broadway</td>\n",
       "      <td>40.729039</td>\n",
       "      <td>-73.994046</td>\n",
       "      <td>285</td>\n",
       "      <td>Broadway &amp; E 14 St</td>\n",
       "      <td>40.734546</td>\n",
       "      <td>-73.990741</td>\n",
       "      <td>15400</td>\n",
       "      <td>Subscriber</td>\n",
       "      <td>1989.0</td>\n",
       "      <td>1</td>\n",
       "    </tr>\n",
       "  </tbody>\n",
       "</table>\n",
       "</div>"
      ],
      "text/plain": [
       "   tripduration          starttime           stoptime  start station id  \\\n",
       "0          1470  6/1/2016 00:00:18  6/1/2016 00:24:48               380   \n",
       "1           229  6/1/2016 00:00:20  6/1/2016 00:04:09              3092   \n",
       "2           344  6/1/2016 00:00:21  6/1/2016 00:06:06               449   \n",
       "3          1120  6/1/2016 00:00:28  6/1/2016 00:19:09               522   \n",
       "4           229  6/1/2016 00:00:53  6/1/2016 00:04:42               335   \n",
       "\n",
       "         start station name  start station latitude  start station longitude  \\\n",
       "0          W 4 St & 7 Ave S               40.734011               -74.002939   \n",
       "1         Berry St & N 8 St               40.719009               -73.958525   \n",
       "2           W 52 St & 9 Ave               40.764618               -73.987895   \n",
       "3   E 51 St & Lexington Ave               40.757148               -73.972078   \n",
       "4  Washington Pl & Broadway               40.729039               -73.994046   \n",
       "\n",
       "   end station id         end station name  end station latitude  \\\n",
       "0            3236       W 42 St & Dyer Ave             40.758985   \n",
       "1            3103      N 11 St & Wythe Ave             40.721533   \n",
       "2             469       Broadway & W 53 St             40.763441   \n",
       "3             401  Allen St & Rivington St             40.720196   \n",
       "4             285       Broadway & E 14 St             40.734546   \n",
       "\n",
       "   end station longitude  bikeid    usertype  birth year  gender  \n",
       "0             -73.993800   19859  Subscriber      1972.0       1  \n",
       "1             -73.957824   16233  Subscriber      1967.0       1  \n",
       "2             -73.982681   22397  Subscriber      1989.0       1  \n",
       "3             -73.989978   16231  Subscriber      1991.0       1  \n",
       "4             -73.990741   15400  Subscriber      1989.0       1  "
      ]
     },
     "execution_count": 1,
     "metadata": {},
     "output_type": "execute_result"
    }
   ],
   "source": [
    "import matplotlib.pylab as pl\n",
    "import pandas as pd\n",
    "import numpy as np\n",
    "import os\n",
    "import scipy.stats\n",
    "from scipy import signal\n",
    "from urllib import urlopen\n",
    "from zipfile import ZipFile\n",
    "from StringIO import StringIO\n",
    "%matplotlib inline\n",
    "\n",
    "#Loading citibike data.\n",
    "url = urlopen(\"https://s3.amazonaws.com/tripdata/201606-citibike-tripdata.zip\").read()\n",
    "unzip = ZipFile(StringIO(url))\n",
    "data =  unzip.open('201606-citibike-tripdata.csv')\n",
    "df = pd.read_csv(data)\n",
    "df.head()\n",
    "\n",
    "#df = pd.read_csv(\"/Users/JordanVani/Documents/NYU/PUI/PUI2016_jmv423/HW4_jmv423/201606-citibike-tripdata.csv\")"
   ]
  },
  {
   "cell_type": "markdown",
   "metadata": {},
   "source": [
    "# Distribution of Age for Male & Female Riders\n",
    "#### Question: Are the distribution of ages for male and female citibike riders the same?"
   ]
  },
  {
   "cell_type": "code",
   "execution_count": 2,
   "metadata": {
    "collapsed": false,
    "scrolled": true
   },
   "outputs": [
    {
     "data": {
      "text/html": [
       "<div>\n",
       "<table border=\"1\" class=\"dataframe\">\n",
       "  <thead>\n",
       "    <tr style=\"text-align: right;\">\n",
       "      <th></th>\n",
       "      <th>starttime</th>\n",
       "      <th>gender</th>\n",
       "      <th>birthyear</th>\n",
       "      <th>age</th>\n",
       "    </tr>\n",
       "  </thead>\n",
       "  <tbody>\n",
       "    <tr>\n",
       "      <th>0</th>\n",
       "      <td>2016-06-01 00:00:18</td>\n",
       "      <td>1</td>\n",
       "      <td>1972.0</td>\n",
       "      <td>44.0</td>\n",
       "    </tr>\n",
       "    <tr>\n",
       "      <th>1</th>\n",
       "      <td>2016-06-01 00:00:20</td>\n",
       "      <td>1</td>\n",
       "      <td>1967.0</td>\n",
       "      <td>49.0</td>\n",
       "    </tr>\n",
       "    <tr>\n",
       "      <th>2</th>\n",
       "      <td>2016-06-01 00:00:21</td>\n",
       "      <td>1</td>\n",
       "      <td>1989.0</td>\n",
       "      <td>27.0</td>\n",
       "    </tr>\n",
       "    <tr>\n",
       "      <th>3</th>\n",
       "      <td>2016-06-01 00:00:28</td>\n",
       "      <td>1</td>\n",
       "      <td>1991.0</td>\n",
       "      <td>25.0</td>\n",
       "    </tr>\n",
       "    <tr>\n",
       "      <th>4</th>\n",
       "      <td>2016-06-01 00:00:53</td>\n",
       "      <td>1</td>\n",
       "      <td>1989.0</td>\n",
       "      <td>27.0</td>\n",
       "    </tr>\n",
       "  </tbody>\n",
       "</table>\n",
       "</div>"
      ],
      "text/plain": [
       "            starttime  gender  birthyear   age\n",
       "0 2016-06-01 00:00:18       1     1972.0  44.0\n",
       "1 2016-06-01 00:00:20       1     1967.0  49.0\n",
       "2 2016-06-01 00:00:21       1     1989.0  27.0\n",
       "3 2016-06-01 00:00:28       1     1991.0  25.0\n",
       "4 2016-06-01 00:00:53       1     1989.0  27.0"
      ]
     },
     "execution_count": 2,
     "metadata": {},
     "output_type": "execute_result"
    }
   ],
   "source": [
    "df1 = df[['starttime', 'gender', 'birth year']].copy()\n",
    "df1 = df1.rename(columns = {'birth year' : 'birthyear'})\n",
    "df1['age'] = 2016 - df1.birthyear\n",
    "df1.dropna(0, 'any', inplace = True)\n",
    "df1.starttime = pd.to_datetime(df1.starttime, infer_datetime_format = True)\n",
    "male = df1.query('gender == 1')\n",
    "female = df1.query('gender == 2')\n",
    "df1.head()"
   ]
  },
  {
   "cell_type": "code",
   "execution_count": 3,
   "metadata": {
    "collapsed": false
   },
   "outputs": [
    {
     "data": {
      "text/plain": [
       "<matplotlib.text.Text at 0x116931d90>"
      ]
     },
     "execution_count": 3,
     "metadata": {},
     "output_type": "execute_result"
    },
    {
     "data": {
      "image/png": "[encoded data removed]",
      "text/plain": [
       "<matplotlib.figure.Figure at 0x10419f910>"
      ]
     },
     "metadata": {},
     "output_type": "display_data"
    },
    {
     "data": {
      "image/png": "[encoded data removed]",
      "text/plain": [
       "<matplotlib.figure.Figure at 0x10419fa90>"
      ]
     },
     "metadata": {},
     "output_type": "display_data"
    }
   ],
   "source": [
    "bins = np.arange(10, 99, 5)\n",
    "\n",
    "axM = male.age.groupby(pd.cut(male.age, bins)).agg({\"age\" : np.count_nonzero}).plot(kind='bar', legend=False)\n",
    "axM.set_title(\"Male Riders\")\n",
    "axM.set_ylabel('Count')\n",
    "\n",
    "\n",
    "axF = female.age.groupby(pd.cut(female.age, bins)).agg({\"age\" : np.count_nonzero}).plot(kind='bar',legend=False)\n",
    "axF.set_title(\"Female Riders\")\n",
    "axF.set_ylabel('Count')"
   ]
  },
  {
   "cell_type": "markdown",
   "metadata": {},
   "source": [
    "###### Figure 1. Distribution of age for male and female citibike users."
   ]
  },
  {
   "cell_type": "code",
   "execution_count": 4,
   "metadata": {
    "collapsed": false
   },
   "outputs": [
    {
     "data": {
      "text/plain": [
       "<matplotlib.legend.Legend at 0x113bb9f90>"
      ]
     },
     "execution_count": 4,
     "metadata": {},
     "output_type": "execute_result"
    },
    {
     "data": {
      "image/png": "[encoded data removed]",
      "text/plain": [
       "<matplotlib.figure.Figure at 0x11680c050>"
      ]
     },
     "metadata": {},
     "output_type": "display_data"
    }
   ],
   "source": [
    "csM=male.age.groupby(pd.cut(male.age, bins)).agg({\"age\" : np.count_nonzero}).cumsum()\n",
    "csF=female.age.groupby(pd.cut(female.age, bins)).agg({\"age\" : np.count_nonzero}).cumsum()\n",
    "\n",
    "pl.plot(bins[:-1] + 5, csM / csM.max(), label = \"M\")\n",
    "pl.plot(bins[:-1] + 5, csF / csF.max(), label = \"F\")\n",
    "pl.plot(bins[:-1] + 5, np.sqrt(csF / csF.max() - csM / csM.max())**2, 'k-',\n",
    "        label = \"difference\")\n",
    "pl.xlabel(\"Age\")\n",
    "pl.ylabel(\"Normalized Cumulative Number\")\n",
    "pl.legend()"
   ]
  },
  {
   "cell_type": "markdown",
   "metadata": {},
   "source": [
    "###### Figure 2. Cumulative Sum of Age Data of Citibike Users."
   ]
  },
  {
   "cell_type": "markdown",
   "metadata": {},
   "source": [
    "### KS Test\n",
    "\n",
    "$H_o$: There is no difference between the age distributions of male and female citibike riders (significance at p=0.05). \n",
    "\n",
    "$H_a$: There is a difference between the age distributions of male and female citibike riders (significance at p=0.05)."
   ]
  },
  {
   "cell_type": "code",
   "execution_count": 5,
   "metadata": {
    "collapsed": false
   },
   "outputs": [
    {
     "name": "stdout",
     "output_type": "stream",
     "text": [
      "Ks_2sampResult(statistic=0.082706883585128677, pvalue=0.0)\n"
     ]
    }
   ],
   "source": [
    "ks = scipy.stats.ks_2samp(male.age, female.age)\n",
    "print (ks)"
   ]
  },
  {
   "cell_type": "markdown",
   "metadata": {},
   "source": [
    "The KS 2 sample result has return the KS statistic and the p-value.\n",
    "\n",
    "Since the pvalue is less than 0.05  we can reject the null hypothesis and accept the alternative hypothesis: there is a difference between age distributions of male and female citibike riders.\n",
    "##### Do the test with the entire dataset and with a subset 200x smaller."
   ]
  },
  {
   "cell_type": "code",
   "execution_count": 6,
   "metadata": {
    "collapsed": false,
    "scrolled": true
   },
   "outputs": [
    {
     "name": "stdout",
     "output_type": "stream",
     "text": [
      "Ks_2sampResult(statistic=0.060030935716879119, pvalue=0.00037842760007439022)\n"
     ]
    }
   ],
   "source": [
    "ks200 = scipy.stats.ks_2samp(male.iloc[::200, :].age, female.iloc[::200, :].age)\n",
    "print (ks200)"
   ]
  },
  {
   "cell_type": "markdown",
   "metadata": {},
   "source": [
    "Again, the KS 2 sample result has returned the KS statistic and the p-value. The KS statistic deviated from the previous test (as expected from the central limit theorem) and the pvalue increased. \n",
    "\n",
    "Nonetheless, since the pvalue is still less than 0.05 we can again reject the null hypothesis and accept the alternative hypothesis: there is a difference between age distributions of male and female citibike riders.\n",
    "\n",
    "### Pearson's Test\n",
    "\n",
    "$H_o$: There is no difference between the age distributions of male and female citibike riders (significance at p=0.05).\n",
    "\n",
    "$H_a$: There is a difference between the age distributions of male and female citibike riders (significance at p=0.05)."
   ]
  },
  {
   "cell_type": "code",
   "execution_count": 7,
   "metadata": {
    "collapsed": false
   },
   "outputs": [
    {
     "data": {
      "text/plain": [
       "(0.99531725275233518, 0.0)"
      ]
     },
     "execution_count": 7,
     "metadata": {},
     "output_type": "execute_result"
    }
   ],
   "source": [
    "m = male.head(len(female))\n",
    "scipy.stats.pearsonr(m.sort_values(['age']).age, female.sort_values(['age']).age)"
   ]
  },
  {
   "cell_type": "markdown",
   "metadata": {},
   "source": [
    "The .pearsonr() function returned the correlation coefficient between the two distributions and the p-value.\n",
    "\n",
    "Since the pvalue is still less than 0.05 we can again reject the null hypothesis and accept the alternative hypothesis: there is a difference between age distributions of male and female citibike riders.\n",
    "\n",
    "### Spearman's Test\n",
    "\n",
    "$H_o$: There is no difference between the age distributions of male and female citibike riders (significance at p=0.05).\n",
    "\n",
    "$H_a$: There is a difference between the age distributions of male and female citibike riders (significance at p=0.05)."
   ]
  },
  {
   "cell_type": "code",
   "execution_count": 8,
   "metadata": {
    "collapsed": false
   },
   "outputs": [
    {
     "data": {
      "text/plain": [
       "SpearmanrResult(correlation=0.99911561910412816, pvalue=0.0)"
      ]
     },
     "execution_count": 8,
     "metadata": {},
     "output_type": "execute_result"
    }
   ],
   "source": [
    "scipy.stats.spearmanr(m.sort_values(['age']).age, female.sort_values(['age']).age)"
   ]
  },
  {
   "cell_type": "markdown",
   "metadata": {},
   "source": [
    "The .spearmanr() function returned the spearman's correlation coefficient between the two distributions and the p-value.\n",
    "\n",
    "Since the pvalue is still less than 0.05 we can again reject the null hypothesis and accept the alternative hypothesis: there is a difference between age distributions of male and female citibike riders.\n",
    "\n",
    "### Extra Credit: Correlation of Riders Age During Daytime & Nighttime\n",
    "#### KS Test\n",
    "$H_o$: There is no difference between the distribution of ages of night-time and day-time citibike riders (significance at p=0.05).\n",
    "\n",
    "$H_a$: There is a difference between the distribution of ages of night-time and day-time citibike riders (significance at p=0.05)."
   ]
  },
  {
   "cell_type": "code",
   "execution_count": 9,
   "metadata": {
    "collapsed": false
   },
   "outputs": [
    {
     "name": "stdout",
     "output_type": "stream",
     "text": [
      "Ks_2sampResult(statistic=0.11770130199113288, pvalue=0.0)\n"
     ]
    }
   ],
   "source": [
    "df1['dayclass'] = (df1.starttime.dt.hour > 5) & (df1.starttime.dt.hour <20)\n",
    "day = df1.query('dayclass == True')\n",
    "night = df1.query('dayclass == False')\n",
    "\n",
    "ks1 = scipy.stats.ks_2samp(day.age, night.age)\n",
    "print (ks1)"
   ]
  },
  {
   "cell_type": "markdown",
   "metadata": {},
   "source": [
    "As above, the KS 2 sample result has returned the KS statistic and the p-value.\n",
    "\n",
    "Since the pvalue is less than 0.05  we can reject the null hypothesis and accept the alternative hypothesis: there is a difference between the distribution of ages of night-time and day-time citibike users."
   ]
  }
 ],
 "metadata": {
  "kernelspec": {
   "display_name": "Python 2",
   "language": "python",
   "name": "python2"
  },
  "language_info": {
   "codemirror_mode": {
    "name": "ipython",
    "version": 2
   },
   "file_extension": ".py",
   "mimetype": "text/x-python",
   "name": "python",
   "nbconvert_exporter": "python",
   "pygments_lexer": "ipython2",
   "version": "2.7.12"
  }
 },
 "nbformat": 4,
 "nbformat_minor": 1
}
