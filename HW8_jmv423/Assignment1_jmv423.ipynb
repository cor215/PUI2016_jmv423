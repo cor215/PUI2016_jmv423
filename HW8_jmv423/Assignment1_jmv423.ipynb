{
 "cells": [
  {
   "cell_type": "markdown",
   "metadata": {},
   "source": [
    "# Working with Data - Computer Lab for Guest Lecture Julia Lane\n",
    "\n",
    "In this computer lab we will learn more more details and practice data work to enhance the content of the lecture presented by Julia Lane on responsible data use. We will address a research question, think about data and measurement errors, and manipulate data. \n",
    "\n",
    "OUTLINE: \n",
    "1. Define a research question \n",
    "2. Think about what data are available \n",
    "3. Think about possible measurement errors \n",
    "4. Think about the interpretation of your results \n",
    "5. Inform your results by linking datasets "
   ]
  },
  {
   "cell_type": "markdown",
   "metadata": {
    "raw_mimetype": "text/markdown"
   },
   "source": [
    "# 1. Define a reserach question\n",
    "Which Community Districts in NYC show the highest number of complaints?\n",
    "\n",
    "# 2. Think about what data are available\n",
    "Find suitable data by searching the CUSP Data Catalog https://datahub.cusp.nyu.edu/catalog. You can use Urban Profiler to investigate the Metadata associated with each dataset. Using this tool will help you to decide which attributes of the data you need to answer your question so you don't have to load the entire dataset. "
   ]
  },
  {
   "cell_type": "code",
   "execution_count": 1,
   "metadata": {
    "collapsed": false
   },
   "outputs": [
    {
     "name": "stderr",
     "output_type": "stream",
     "text": [
      "/opt/rh/anaconda/root/envs/PUI2016_Python2/lib/python2.7/site-packages/IPython/html.py:14: ShimWarning: The `IPython.html` package has been deprecated. You should import from `notebook` instead. `IPython.html.widgets` has moved to `ipywidgets`.\n",
      "  \"`IPython.html.widgets` has moved to `ipywidgets`.\", ShimWarning)\n"
     ]
    }
   ],
   "source": [
    "import os\n",
    "import re\n",
    "import seaborn\n",
    "import numpy as np\n",
    "import pandas as pd\n",
    "from itertools import cycle\n",
    "import matplotlib.pyplot as pl\n",
    "import statsmodels.formula.api as smf\n",
    "%matplotlib inline\n",
    "\n",
    "#PUIdata = os.getenv('PUIDATA')\n",
    "PUIdata = os.environ['DFDATA']\n",
    "#data = 'https://data.cityofnewyork.us/resource/erm2-nwe9.csv'\n",
    "data = 'http://cosmo.nyu.edu/~fb55/PUI2016/data/311_Service_Requests_from_2010_to_Present.csv'"
   ]
  },
  {
   "cell_type": "code",
   "execution_count": 2,
   "metadata": {
    "collapsed": false
   },
   "outputs": [
    {
     "data": {
      "text/html": [
       "<div>\n",
       "<table border=\"1\" class=\"dataframe\">\n",
       "  <thead>\n",
       "    <tr style=\"text-align: right;\">\n",
       "      <th></th>\n",
       "      <th>Unique Key</th>\n",
       "      <th>Community Board</th>\n",
       "    </tr>\n",
       "  </thead>\n",
       "  <tbody>\n",
       "    <tr>\n",
       "      <th>0</th>\n",
       "      <td>34212771</td>\n",
       "      <td>13 QUEENS</td>\n",
       "    </tr>\n",
       "    <tr>\n",
       "      <th>1</th>\n",
       "      <td>34212392</td>\n",
       "      <td>12 BRONX</td>\n",
       "    </tr>\n",
       "    <tr>\n",
       "      <th>2</th>\n",
       "      <td>34214520</td>\n",
       "      <td>03 QUEENS</td>\n",
       "    </tr>\n",
       "    <tr>\n",
       "      <th>3</th>\n",
       "      <td>34212483</td>\n",
       "      <td>12 BRONX</td>\n",
       "    </tr>\n",
       "    <tr>\n",
       "      <th>4</th>\n",
       "      <td>34214231</td>\n",
       "      <td>12 MANHATTAN</td>\n",
       "    </tr>\n",
       "  </tbody>\n",
       "</table>\n",
       "</div>"
      ],
      "text/plain": [
       "   Unique Key Community Board\n",
       "0    34212771       13 QUEENS\n",
       "1    34212392        12 BRONX\n",
       "2    34214520       03 QUEENS\n",
       "3    34212483        12 BRONX\n",
       "4    34214231    12 MANHATTAN"
      ]
     },
     "execution_count": 2,
     "metadata": {},
     "output_type": "execute_result"
    }
   ],
   "source": [
    "# Load dataset\n",
    "df = pd.read_csv(data, usecols = [0, 23])\n",
    "df.head()"
   ]
  },
  {
   "cell_type": "markdown",
   "metadata": {},
   "source": [
    "# 3. Think about possible measurement errors\n",
    "Do you see any problems regarding possible measurement error? Think about who is represented in the data, ommissions, duplications, content error, missing data, etc. "
   ]
  },
  {
   "cell_type": "code",
   "execution_count": 3,
   "metadata": {
    "collapsed": false
   },
   "outputs": [
    {
     "data": {
      "text/plain": [
       "array(['13 QUEENS', '12 BRONX', '03 QUEENS', '12 MANHATTAN',\n",
       "       '09 MANHATTAN', '08 QUEENS', '01 QUEENS', '07 BRONX', '01 BROOKLYN',\n",
       "       '03 MANHATTAN', '09 QUEENS', '05 BRONX', '03 BROOKLYN',\n",
       "       '07 MANHATTAN', '12 BROOKLYN', '0 Unspecified', '09 BROOKLYN',\n",
       "       '07 QUEENS', '15 BROOKLYN', '08 MANHATTAN', '10 BROOKLYN',\n",
       "       '08 BROOKLYN', '04 MANHATTAN', '02 MANHATTAN', '12 QUEENS',\n",
       "       '04 BRONX', '04 BROOKLYN', '01 BRONX', 'Unspecified MANHATTAN',\n",
       "       '10 QUEENS', '18 BROOKLYN', '11 BROOKLYN', '10 MANHATTAN',\n",
       "       '11 QUEENS', '16 BROOKLYN', '05 BROOKLYN', '05 MANHATTAN',\n",
       "       '55 BROOKLYN', '08 BRONX', '09 BRONX', '17 BROOKLYN',\n",
       "       '01 MANHATTAN', '05 QUEENS', '06 QUEENS', '02 BRONX', '11 BRONX',\n",
       "       '04 QUEENS', 'Unspecified BROOKLYN', '02 QUEENS',\n",
       "       '01 STATEN ISLAND', '03 STATEN ISLAND', '14 BROOKLYN',\n",
       "       '07 BROOKLYN', '02 STATEN ISLAND', '10 BRONX', '11 MANHATTAN',\n",
       "       '06 BROOKLYN', '13 BROOKLYN', '06 MANHATTAN', 'Unspecified BRONX',\n",
       "       '02 BROOKLYN', '06 BRONX', '14 QUEENS', '03 BRONX', '83 QUEENS',\n",
       "       'Unspecified QUEENS', 'Unspecified STATEN ISLAND', '80 QUEENS',\n",
       "       '82 QUEENS', '81 QUEENS', '95 STATEN ISLAND', '64 MANHATTAN',\n",
       "       '26 BRONX', '27 BRONX'], dtype=object)"
      ]
     },
     "execution_count": 3,
     "metadata": {},
     "output_type": "execute_result"
    }
   ],
   "source": [
    "# Check if all Boroughs and Community Districts are represented in the Data\n",
    "districts = df['Community Board'].unique()\n",
    "districts"
   ]
  },
  {
   "cell_type": "code",
   "execution_count": 4,
   "metadata": {
    "collapsed": false
   },
   "outputs": [
    {
     "data": {
      "text/plain": [
       "74"
      ]
     },
     "execution_count": 4,
     "metadata": {},
     "output_type": "execute_result"
    }
   ],
   "source": [
    "# How many unique values do we have? \n",
    "len(df['Community Board'].unique())"
   ]
  },
  {
   "cell_type": "code",
   "execution_count": 5,
   "metadata": {
    "collapsed": false
   },
   "outputs": [],
   "source": [
    "# Why do we have so many? Some of them are unspecified, missing. Some might be invalid entries. \n",
    "# We should have 59 Community Districts.\n",
    "a = '''There are unspecified and invalid community districts in this dataset.'''"
   ]
  },
  {
   "cell_type": "code",
   "execution_count": 6,
   "metadata": {
    "collapsed": false
   },
   "outputs": [],
   "source": [
    "# Check for duplicates? Are these plausible?\n",
    "dups = df.duplicated('Unique Key')\n",
    "dups.unique() \n",
    "a = '''There are no duplicates in this subset of the dataset.'''"
   ]
  },
  {
   "cell_type": "code",
   "execution_count": 7,
   "metadata": {
    "collapsed": false
   },
   "outputs": [
    {
     "data": {
      "text/plain": [
       "Unique Key         34897\n",
       "Community Board    34897\n",
       "dtype: int64"
      ]
     },
     "execution_count": 7,
     "metadata": {},
     "output_type": "execute_result"
    }
   ],
   "source": [
    "# What about missing values? Can you detect any patterns? \n",
    "a = '''There are no missing values in this subset of the dataset.'''\n",
    "df.count()"
   ]
  },
  {
   "cell_type": "code",
   "execution_count": 8,
   "metadata": {
    "collapsed": true
   },
   "outputs": [],
   "source": [
    "# Data Editing: Is it possible to replace missing values? Is it possible to use Complaint Type \n",
    "# to fill missings in Resolution Descriptor?"
   ]
  },
  {
   "cell_type": "code",
   "execution_count": 9,
   "metadata": {
    "collapsed": false
   },
   "outputs": [],
   "source": [
    "# Generate marker for unplausible Community Districts\n",
    "# How do these districts look like? \n",
    "baddistricts = ['Unspecified MANHATTAN', 'Unspecified BROOKLYN', 'Unspecified BRONX', \n",
    "            'Unspecified QUEENS', 'Unspecified STATEN ISLAND', '0 Unspecified', \n",
    "            '83 QUEENS', '80 QUEENS', '82 QUEENS', '81 QUEENS', '95 STATEN ISLAND', \n",
    "            '64 MANHATTAN', '26 BRONX', '27 BRONX', '55 BROOKLYN']"
   ]
  },
  {
   "cell_type": "code",
   "execution_count": 10,
   "metadata": {
    "collapsed": false
   },
   "outputs": [
    {
     "data": {
      "text/plain": [
       "59"
      ]
     },
     "execution_count": 10,
     "metadata": {},
     "output_type": "execute_result"
    }
   ],
   "source": [
    "# Drop the marked districts\n",
    "df1 = df[~df['Community Board'].isin(baddistricts)]\n",
    "len(df1['Community Board'].unique())"
   ]
  },
  {
   "cell_type": "code",
   "execution_count": 11,
   "metadata": {
    "collapsed": false
   },
   "outputs": [
    {
     "data": {
      "text/html": [
       "<div>\n",
       "<table border=\"1\" class=\"dataframe\">\n",
       "  <thead>\n",
       "    <tr style=\"text-align: right;\">\n",
       "      <th></th>\n",
       "      <th>Community Board</th>\n",
       "      <th>count</th>\n",
       "      <th>ID</th>\n",
       "    </tr>\n",
       "  </thead>\n",
       "  <tbody>\n",
       "    <tr>\n",
       "      <th>0</th>\n",
       "      <td>01 BRONX</td>\n",
       "      <td>280</td>\n",
       "      <td>BX01</td>\n",
       "    </tr>\n",
       "    <tr>\n",
       "      <th>1</th>\n",
       "      <td>01 BROOKLYN</td>\n",
       "      <td>791</td>\n",
       "      <td>BK01</td>\n",
       "    </tr>\n",
       "    <tr>\n",
       "      <th>2</th>\n",
       "      <td>01 MANHATTAN</td>\n",
       "      <td>353</td>\n",
       "      <td>MN01</td>\n",
       "    </tr>\n",
       "    <tr>\n",
       "      <th>3</th>\n",
       "      <td>01 QUEENS</td>\n",
       "      <td>687</td>\n",
       "      <td>QN01</td>\n",
       "    </tr>\n",
       "    <tr>\n",
       "      <th>4</th>\n",
       "      <td>01 STATEN ISLAND</td>\n",
       "      <td>659</td>\n",
       "      <td>SI01</td>\n",
       "    </tr>\n",
       "  </tbody>\n",
       "</table>\n",
       "</div>"
      ],
      "text/plain": [
       "    Community Board  count    ID\n",
       "0          01 BRONX    280  BX01\n",
       "1       01 BROOKLYN    791  BK01\n",
       "2      01 MANHATTAN    353  MN01\n",
       "3         01 QUEENS    687  QN01\n",
       "4  01 STATEN ISLAND    659  SI01"
      ]
     },
     "execution_count": 11,
     "metadata": {},
     "output_type": "execute_result"
    }
   ],
   "source": [
    "# Produce your result: Generate an indicator which ranks the Community District by complaint numbers \n",
    "# on the Community district level\n",
    "\n",
    "# Create Count Summary Table\n",
    "df2 = pd.DataFrame({'count' : df1.groupby( ['Community Board'] ).size()}).reset_index()\n",
    "\n",
    "# Regex Community Number\n",
    "ComNum = []\n",
    "for row in df2.iterrows():\n",
    "    ComNum.append(re.findall(\"(\\d+)\", row[1][0]))\n",
    "df2['ComNum'] = [item for sublist in ComNum for item in sublist]\n",
    "\n",
    "# Regex Community Abbreviation\n",
    "coms = {'BRONX': 'BX', 'BROOKLYN': 'BK', 'MANHATTAN': 'MN', 'QUEENS': 'QN', 'STATEN ISLAND': 'SI'}\n",
    "ComAbb = []\n",
    "for row in df2.iterrows(): \n",
    "    for key in coms:\n",
    "        exp = re.compile(key)\n",
    "        if re.search(exp, row[1][0]):\n",
    "            ComAbb.append(coms[key])\n",
    "df2['ComAbb'] = ComAbb\n",
    "df2['ID'] = df2['ComAbb'] + df2['ComNum']\n",
    "df2.drop(df2.columns[2:4], axis = 1, inplace = True)\n",
    "df2.head()"
   ]
  },
  {
   "cell_type": "code",
   "execution_count": 12,
   "metadata": {
    "collapsed": true
   },
   "outputs": [],
   "source": [
    "# Safe reduced data frame (Community District level)"
   ]
  },
  {
   "cell_type": "markdown",
   "metadata": {},
   "source": [
    "# 4. Think about the interpretation of your results?\n",
    "What do you have to keep in mind when interpreting your results? Are they generable? Does the way the data is collected influence your results? To better inform city agancies it might be good to explore in more detail the underlying dempgraphics/infrastructure of a Community District becasue this might influence 311 calls. You can do this by merging external data on the Community District level to your analysis data. "
   ]
  },
  {
   "cell_type": "code",
   "execution_count": 13,
   "metadata": {
    "collapsed": false
   },
   "outputs": [],
   "source": [
    "# Population by Community District\n",
    "df_pop = pd.read_csv('http://cosmo.nyu.edu/~fb55/PUI2016/data/Final_Demographics.csv')\n",
    "df_pop.cd_id = df_pop.cd_id.str[0:4]"
   ]
  },
  {
   "cell_type": "code",
   "execution_count": 14,
   "metadata": {
    "collapsed": false
   },
   "outputs": [
    {
     "data": {
      "text/plain": [
       "(59, 158)"
      ]
     },
     "execution_count": 14,
     "metadata": {},
     "output_type": "execute_result"
    }
   ],
   "source": [
    "# Check variables in file\n",
    "df_pop.shape"
   ]
  },
  {
   "cell_type": "code",
   "execution_count": 15,
   "metadata": {
    "collapsed": false
   },
   "outputs": [
    {
     "data": {
      "text/plain": [
       "'59'"
      ]
     },
     "execution_count": 15,
     "metadata": {},
     "output_type": "execute_result"
    }
   ],
   "source": [
    "# How many community districts are in file? \n",
    "'''59'''"
   ]
  },
  {
   "cell_type": "code",
   "execution_count": 16,
   "metadata": {
    "collapsed": false
   },
   "outputs": [
    {
     "data": {
      "text/html": [
       "<div>\n",
       "<table border=\"1\" class=\"dataframe\">\n",
       "  <thead>\n",
       "    <tr style=\"text-align: right;\">\n",
       "      <th></th>\n",
       "      <th>ID</th>\n",
       "      <th>PerCapitaIncome</th>\n",
       "    </tr>\n",
       "  </thead>\n",
       "  <tbody>\n",
       "    <tr>\n",
       "      <th>0</th>\n",
       "      <td>BX08</td>\n",
       "      <td>30730</td>\n",
       "    </tr>\n",
       "    <tr>\n",
       "      <th>1</th>\n",
       "      <td>BX12</td>\n",
       "      <td>21523</td>\n",
       "    </tr>\n",
       "    <tr>\n",
       "      <th>2</th>\n",
       "      <td>BX10</td>\n",
       "      <td>28586</td>\n",
       "    </tr>\n",
       "    <tr>\n",
       "      <th>3</th>\n",
       "      <td>BX11</td>\n",
       "      <td>22714</td>\n",
       "    </tr>\n",
       "    <tr>\n",
       "      <th>4</th>\n",
       "      <td>BX03</td>\n",
       "      <td>12662</td>\n",
       "    </tr>\n",
       "  </tbody>\n",
       "</table>\n",
       "</div>"
      ],
      "text/plain": [
       "     ID  PerCapitaIncome\n",
       "0  BX08            30730\n",
       "1  BX12            21523\n",
       "2  BX10            28586\n",
       "3  BX11            22714\n",
       "4  BX03            12662"
      ]
     },
     "execution_count": 16,
     "metadata": {},
     "output_type": "execute_result"
    }
   ],
   "source": [
    "# Manipulate data to get some information on demographics by Community District. \n",
    "# Think about who might be more likely to call 311\n",
    "df_pop1 = df_pop[['cd_id', 'Per capita income (In 2014 Inflation Adjusted Dollars)']]\n",
    "df_pop1.columns = ['ID', 'PerCapitaIncome']\n",
    "df_pop1.head()"
   ]
  },
  {
   "cell_type": "code",
   "execution_count": 17,
   "metadata": {
    "collapsed": true
   },
   "outputs": [],
   "source": [
    "# Save data frame"
   ]
  },
  {
   "cell_type": "code",
   "execution_count": 18,
   "metadata": {
    "collapsed": false
   },
   "outputs": [
    {
     "data": {
      "text/html": [
       "<div>\n",
       "<table border=\"1\" class=\"dataframe\">\n",
       "  <thead>\n",
       "    <tr style=\"text-align: right;\">\n",
       "      <th></th>\n",
       "      <th>FIPS</th>\n",
       "      <th>Geographic Identifier</th>\n",
       "      <th>Qualifying Name</th>\n",
       "      <th>Households</th>\n",
       "      <th>Households: With An Internet Subscription</th>\n",
       "      <th>Households: Dial-Up Alone</th>\n",
       "      <th>Households: Dsl</th>\n",
       "      <th>Households: With Mobile Broadband</th>\n",
       "      <th>Households: Without Mobile Broadband</th>\n",
       "      <th>Households: Cable Modem</th>\n",
       "      <th>...</th>\n",
       "      <th>Households: Mobile Broadband Alone or With Dialup</th>\n",
       "      <th>Households: Internet Access Without A Subscription</th>\n",
       "      <th>Households: No Internet Access</th>\n",
       "      <th>% Households: With An Internet Subscription</th>\n",
       "      <th>Households.1</th>\n",
       "      <th>Households: Has A Computer</th>\n",
       "      <th>Households: With Dial-Up Internet Subscription Alone</th>\n",
       "      <th>Households: With A Broadband Internet Subscription</th>\n",
       "      <th>Households: Without An Internet Subscription</th>\n",
       "      <th>Households: No Computer</th>\n",
       "    </tr>\n",
       "  </thead>\n",
       "  <tbody>\n",
       "    <tr>\n",
       "      <th>0</th>\n",
       "      <td>3603701</td>\n",
       "      <td>79500US3603701</td>\n",
       "      <td>NYC-Bronx Community District 8--Riverdale, New...</td>\n",
       "      <td>42035</td>\n",
       "      <td>31795</td>\n",
       "      <td>444</td>\n",
       "      <td>2813</td>\n",
       "      <td>946</td>\n",
       "      <td>1867</td>\n",
       "      <td>19178</td>\n",
       "      <td>...</td>\n",
       "      <td>2168</td>\n",
       "      <td>2119</td>\n",
       "      <td>8121</td>\n",
       "      <td>75.64</td>\n",
       "      <td>42035</td>\n",
       "      <td>35048</td>\n",
       "      <td>404</td>\n",
       "      <td>30943</td>\n",
       "      <td>3701</td>\n",
       "      <td>6987</td>\n",
       "    </tr>\n",
       "    <tr>\n",
       "      <th>1</th>\n",
       "      <td>3603702</td>\n",
       "      <td>79500US3603702</td>\n",
       "      <td>NYC-Bronx Community District 12--Wakefield, Ne...</td>\n",
       "      <td>44830</td>\n",
       "      <td>32243</td>\n",
       "      <td>178</td>\n",
       "      <td>849</td>\n",
       "      <td>405</td>\n",
       "      <td>444</td>\n",
       "      <td>18653</td>\n",
       "      <td>...</td>\n",
       "      <td>928</td>\n",
       "      <td>1891</td>\n",
       "      <td>10696</td>\n",
       "      <td>71.92</td>\n",
       "      <td>44830</td>\n",
       "      <td>36700</td>\n",
       "      <td>178</td>\n",
       "      <td>31435</td>\n",
       "      <td>5087</td>\n",
       "      <td>8130</td>\n",
       "    </tr>\n",
       "  </tbody>\n",
       "</table>\n",
       "<p>2 rows × 31 columns</p>\n",
       "</div>"
      ],
      "text/plain": [
       "      FIPS Geographic Identifier  \\\n",
       "0  3603701        79500US3603701   \n",
       "1  3603702        79500US3603702   \n",
       "\n",
       "                                     Qualifying Name  Households  \\\n",
       "0  NYC-Bronx Community District 8--Riverdale, New...       42035   \n",
       "1  NYC-Bronx Community District 12--Wakefield, Ne...       44830   \n",
       "\n",
       "   Households: With An Internet Subscription  Households: Dial-Up Alone  \\\n",
       "0                                      31795                        444   \n",
       "1                                      32243                        178   \n",
       "\n",
       "   Households: Dsl  Households: With Mobile Broadband  \\\n",
       "0             2813                                946   \n",
       "1              849                                405   \n",
       "\n",
       "   Households: Without Mobile Broadband  Households: Cable Modem  \\\n",
       "0                                  1867                    19178   \n",
       "1                                   444                    18653   \n",
       "\n",
       "            ...             Households: Mobile Broadband Alone or With Dialup  \\\n",
       "0           ...                                                          2168   \n",
       "1           ...                                                           928   \n",
       "\n",
       "   Households: Internet Access Without A Subscription  \\\n",
       "0                                               2119    \n",
       "1                                               1891    \n",
       "\n",
       "   Households: No Internet Access  \\\n",
       "0                            8121   \n",
       "1                           10696   \n",
       "\n",
       "   % Households: With An Internet Subscription  Households.1  \\\n",
       "0                                        75.64         42035   \n",
       "1                                        71.92         44830   \n",
       "\n",
       "   Households: Has A Computer  \\\n",
       "0                       35048   \n",
       "1                       36700   \n",
       "\n",
       "   Households: With Dial-Up Internet Subscription Alone  \\\n",
       "0                                                404      \n",
       "1                                                178      \n",
       "\n",
       "   Households: With A Broadband Internet Subscription  \\\n",
       "0                                              30943    \n",
       "1                                              31435    \n",
       "\n",
       "   Households: Without An Internet Subscription  Households: No Computer  \n",
       "0                                          3701                     6987  \n",
       "1                                          5087                     8130  \n",
       "\n",
       "[2 rows x 31 columns]"
      ]
     },
     "execution_count": 18,
     "metadata": {},
     "output_type": "execute_result"
    }
   ],
   "source": [
    "# Infrastructure by Community District\n",
    "df_infr = pd.read_csv('http://cosmo.nyu.edu/~fb55/PUI2016/data/ACS_Computer_Use_and_Internet_2014_1Year_Estimate.csv')\n",
    "df_infr.head(2)"
   ]
  },
  {
   "cell_type": "code",
   "execution_count": 19,
   "metadata": {
    "collapsed": false
   },
   "outputs": [
    {
     "data": {
      "text/plain": [
       "(59, 31)"
      ]
     },
     "execution_count": 19,
     "metadata": {},
     "output_type": "execute_result"
    }
   ],
   "source": [
    "df_infr.shape"
   ]
  },
  {
   "cell_type": "code",
   "execution_count": 20,
   "metadata": {
    "collapsed": false,
    "scrolled": true
   },
   "outputs": [
    {
     "data": {
      "text/html": [
       "<div>\n",
       "<table border=\"1\" class=\"dataframe\">\n",
       "  <thead>\n",
       "    <tr style=\"text-align: right;\">\n",
       "      <th></th>\n",
       "      <th>FIPS</th>\n",
       "      <th>Households</th>\n",
       "      <th>Households: With An Internet Subscription</th>\n",
       "      <th>Households: Dial-Up Alone</th>\n",
       "      <th>Households: Dsl</th>\n",
       "      <th>Households: With Mobile Broadband</th>\n",
       "      <th>Households: Without Mobile Broadband</th>\n",
       "      <th>Households: Cable Modem</th>\n",
       "      <th>Households: With Mobile Broadband.1</th>\n",
       "      <th>Households: Without Mobile Broadband.1</th>\n",
       "      <th>...</th>\n",
       "      <th>Households: Mobile Broadband Alone or With Dialup</th>\n",
       "      <th>Households: Internet Access Without A Subscription</th>\n",
       "      <th>Households: No Internet Access</th>\n",
       "      <th>% Households: With An Internet Subscription</th>\n",
       "      <th>Households.1</th>\n",
       "      <th>Households: Has A Computer</th>\n",
       "      <th>Households: With Dial-Up Internet Subscription Alone</th>\n",
       "      <th>Households: With A Broadband Internet Subscription</th>\n",
       "      <th>Households: Without An Internet Subscription</th>\n",
       "      <th>Households: No Computer</th>\n",
       "    </tr>\n",
       "  </thead>\n",
       "  <tbody>\n",
       "    <tr>\n",
       "      <th>count</th>\n",
       "      <td>5.900000e+01</td>\n",
       "      <td>59.000000</td>\n",
       "      <td>59.000000</td>\n",
       "      <td>59.000000</td>\n",
       "      <td>59.000000</td>\n",
       "      <td>59.000000</td>\n",
       "      <td>59.000000</td>\n",
       "      <td>59.000000</td>\n",
       "      <td>59.000000</td>\n",
       "      <td>59.000000</td>\n",
       "      <td>...</td>\n",
       "      <td>59.000000</td>\n",
       "      <td>59.000000</td>\n",
       "      <td>59.000000</td>\n",
       "      <td>59.000000</td>\n",
       "      <td>59.000000</td>\n",
       "      <td>59.000000</td>\n",
       "      <td>59.000000</td>\n",
       "      <td>59.000000</td>\n",
       "      <td>59.000000</td>\n",
       "      <td>59.000000</td>\n",
       "    </tr>\n",
       "    <tr>\n",
       "      <th>mean</th>\n",
       "      <td>3.603924e+06</td>\n",
       "      <td>58043.254237</td>\n",
       "      <td>43840.508475</td>\n",
       "      <td>198.254237</td>\n",
       "      <td>3360.288136</td>\n",
       "      <td>1123.847458</td>\n",
       "      <td>2236.440678</td>\n",
       "      <td>25573.779661</td>\n",
       "      <td>9229.677966</td>\n",
       "      <td>16344.101695</td>\n",
       "      <td>...</td>\n",
       "      <td>1671.372881</td>\n",
       "      <td>2096.779661</td>\n",
       "      <td>12105.966102</td>\n",
       "      <td>74.383390</td>\n",
       "      <td>58043.254237</td>\n",
       "      <td>48738.559322</td>\n",
       "      <td>187.593220</td>\n",
       "      <td>43105.474576</td>\n",
       "      <td>5445.491525</td>\n",
       "      <td>9304.694915</td>\n",
       "    </tr>\n",
       "    <tr>\n",
       "      <th>std</th>\n",
       "      <td>1.522030e+02</td>\n",
       "      <td>15810.303860</td>\n",
       "      <td>16010.775828</td>\n",
       "      <td>138.739969</td>\n",
       "      <td>2007.787640</td>\n",
       "      <td>908.487618</td>\n",
       "      <td>1358.450249</td>\n",
       "      <td>11673.905578</td>\n",
       "      <td>7562.206302</td>\n",
       "      <td>5599.586677</td>\n",
       "      <td>...</td>\n",
       "      <td>1203.374163</td>\n",
       "      <td>916.080501</td>\n",
       "      <td>4194.437844</td>\n",
       "      <td>8.916904</td>\n",
       "      <td>15810.303860</td>\n",
       "      <td>16132.559585</td>\n",
       "      <td>136.414065</td>\n",
       "      <td>16151.874151</td>\n",
       "      <td>2053.307310</td>\n",
       "      <td>3438.676165</td>\n",
       "    </tr>\n",
       "    <tr>\n",
       "      <th>min</th>\n",
       "      <td>3.603701e+06</td>\n",
       "      <td>38041.000000</td>\n",
       "      <td>25372.000000</td>\n",
       "      <td>0.000000</td>\n",
       "      <td>301.000000</td>\n",
       "      <td>73.000000</td>\n",
       "      <td>228.000000</td>\n",
       "      <td>10849.000000</td>\n",
       "      <td>1440.000000</td>\n",
       "      <td>5423.000000</td>\n",
       "      <td>...</td>\n",
       "      <td>313.000000</td>\n",
       "      <td>621.000000</td>\n",
       "      <td>4225.000000</td>\n",
       "      <td>57.310000</td>\n",
       "      <td>38041.000000</td>\n",
       "      <td>30869.000000</td>\n",
       "      <td>0.000000</td>\n",
       "      <td>24376.000000</td>\n",
       "      <td>1602.000000</td>\n",
       "      <td>3859.000000</td>\n",
       "    </tr>\n",
       "    <tr>\n",
       "      <th>25%</th>\n",
       "      <td>3.603804e+06</td>\n",
       "      <td>46556.000000</td>\n",
       "      <td>32721.000000</td>\n",
       "      <td>88.000000</td>\n",
       "      <td>1670.000000</td>\n",
       "      <td>460.000000</td>\n",
       "      <td>1288.000000</td>\n",
       "      <td>18070.500000</td>\n",
       "      <td>4913.000000</td>\n",
       "      <td>11230.500000</td>\n",
       "      <td>...</td>\n",
       "      <td>964.000000</td>\n",
       "      <td>1474.500000</td>\n",
       "      <td>8821.000000</td>\n",
       "      <td>68.720000</td>\n",
       "      <td>46556.000000</td>\n",
       "      <td>38640.000000</td>\n",
       "      <td>82.000000</td>\n",
       "      <td>31884.000000</td>\n",
       "      <td>3902.000000</td>\n",
       "      <td>6979.000000</td>\n",
       "    </tr>\n",
       "    <tr>\n",
       "      <th>50%</th>\n",
       "      <td>3.604003e+06</td>\n",
       "      <td>52641.000000</td>\n",
       "      <td>37464.000000</td>\n",
       "      <td>167.000000</td>\n",
       "      <td>2952.000000</td>\n",
       "      <td>742.000000</td>\n",
       "      <td>1872.000000</td>\n",
       "      <td>22073.000000</td>\n",
       "      <td>6548.000000</td>\n",
       "      <td>15736.000000</td>\n",
       "      <td>...</td>\n",
       "      <td>1385.000000</td>\n",
       "      <td>1882.000000</td>\n",
       "      <td>11465.000000</td>\n",
       "      <td>74.370000</td>\n",
       "      <td>52641.000000</td>\n",
       "      <td>42576.000000</td>\n",
       "      <td>158.000000</td>\n",
       "      <td>37199.000000</td>\n",
       "      <td>5342.000000</td>\n",
       "      <td>8892.000000</td>\n",
       "    </tr>\n",
       "    <tr>\n",
       "      <th>75%</th>\n",
       "      <td>3.604018e+06</td>\n",
       "      <td>62605.000000</td>\n",
       "      <td>47837.000000</td>\n",
       "      <td>303.000000</td>\n",
       "      <td>4801.500000</td>\n",
       "      <td>1481.500000</td>\n",
       "      <td>3031.500000</td>\n",
       "      <td>30000.500000</td>\n",
       "      <td>9499.000000</td>\n",
       "      <td>20642.000000</td>\n",
       "      <td>...</td>\n",
       "      <td>1795.000000</td>\n",
       "      <td>2686.500000</td>\n",
       "      <td>15544.000000</td>\n",
       "      <td>80.630000</td>\n",
       "      <td>62605.000000</td>\n",
       "      <td>52873.500000</td>\n",
       "      <td>297.000000</td>\n",
       "      <td>47143.500000</td>\n",
       "      <td>6920.000000</td>\n",
       "      <td>11129.500000</td>\n",
       "    </tr>\n",
       "    <tr>\n",
       "      <th>max</th>\n",
       "      <td>3.604114e+06</td>\n",
       "      <td>114838.000000</td>\n",
       "      <td>103065.000000</td>\n",
       "      <td>542.000000</td>\n",
       "      <td>8845.000000</td>\n",
       "      <td>4497.000000</td>\n",
       "      <td>6239.000000</td>\n",
       "      <td>68219.000000</td>\n",
       "      <td>41398.000000</td>\n",
       "      <td>30024.000000</td>\n",
       "      <td>...</td>\n",
       "      <td>6093.000000</td>\n",
       "      <td>5002.000000</td>\n",
       "      <td>22408.000000</td>\n",
       "      <td>90.060000</td>\n",
       "      <td>114838.000000</td>\n",
       "      <td>108746.000000</td>\n",
       "      <td>514.000000</td>\n",
       "      <td>102849.000000</td>\n",
       "      <td>9903.000000</td>\n",
       "      <td>18612.000000</td>\n",
       "    </tr>\n",
       "  </tbody>\n",
       "</table>\n",
       "<p>8 rows × 29 columns</p>\n",
       "</div>"
      ],
      "text/plain": [
       "               FIPS     Households  Households: With An Internet Subscription  \\\n",
       "count  5.900000e+01      59.000000                                  59.000000   \n",
       "mean   3.603924e+06   58043.254237                               43840.508475   \n",
       "std    1.522030e+02   15810.303860                               16010.775828   \n",
       "min    3.603701e+06   38041.000000                               25372.000000   \n",
       "25%    3.603804e+06   46556.000000                               32721.000000   \n",
       "50%    3.604003e+06   52641.000000                               37464.000000   \n",
       "75%    3.604018e+06   62605.000000                               47837.000000   \n",
       "max    3.604114e+06  114838.000000                              103065.000000   \n",
       "\n",
       "       Households: Dial-Up Alone  Households: Dsl  \\\n",
       "count                  59.000000        59.000000   \n",
       "mean                  198.254237      3360.288136   \n",
       "std                   138.739969      2007.787640   \n",
       "min                     0.000000       301.000000   \n",
       "25%                    88.000000      1670.000000   \n",
       "50%                   167.000000      2952.000000   \n",
       "75%                   303.000000      4801.500000   \n",
       "max                   542.000000      8845.000000   \n",
       "\n",
       "       Households: With Mobile Broadband  \\\n",
       "count                          59.000000   \n",
       "mean                         1123.847458   \n",
       "std                           908.487618   \n",
       "min                            73.000000   \n",
       "25%                           460.000000   \n",
       "50%                           742.000000   \n",
       "75%                          1481.500000   \n",
       "max                          4497.000000   \n",
       "\n",
       "       Households: Without Mobile Broadband  Households: Cable Modem  \\\n",
       "count                             59.000000                59.000000   \n",
       "mean                            2236.440678             25573.779661   \n",
       "std                             1358.450249             11673.905578   \n",
       "min                              228.000000             10849.000000   \n",
       "25%                             1288.000000             18070.500000   \n",
       "50%                             1872.000000             22073.000000   \n",
       "75%                             3031.500000             30000.500000   \n",
       "max                             6239.000000             68219.000000   \n",
       "\n",
       "       Households: With Mobile Broadband.1  \\\n",
       "count                            59.000000   \n",
       "mean                           9229.677966   \n",
       "std                            7562.206302   \n",
       "min                            1440.000000   \n",
       "25%                            4913.000000   \n",
       "50%                            6548.000000   \n",
       "75%                            9499.000000   \n",
       "max                           41398.000000   \n",
       "\n",
       "       Households: Without Mobile Broadband.1           ...             \\\n",
       "count                               59.000000           ...              \n",
       "mean                             16344.101695           ...              \n",
       "std                               5599.586677           ...              \n",
       "min                               5423.000000           ...              \n",
       "25%                              11230.500000           ...              \n",
       "50%                              15736.000000           ...              \n",
       "75%                              20642.000000           ...              \n",
       "max                              30024.000000           ...              \n",
       "\n",
       "       Households: Mobile Broadband Alone or With Dialup  \\\n",
       "count                                          59.000000   \n",
       "mean                                         1671.372881   \n",
       "std                                          1203.374163   \n",
       "min                                           313.000000   \n",
       "25%                                           964.000000   \n",
       "50%                                          1385.000000   \n",
       "75%                                          1795.000000   \n",
       "max                                          6093.000000   \n",
       "\n",
       "       Households: Internet Access Without A Subscription  \\\n",
       "count                                          59.000000    \n",
       "mean                                         2096.779661    \n",
       "std                                           916.080501    \n",
       "min                                           621.000000    \n",
       "25%                                          1474.500000    \n",
       "50%                                          1882.000000    \n",
       "75%                                          2686.500000    \n",
       "max                                          5002.000000    \n",
       "\n",
       "       Households: No Internet Access  \\\n",
       "count                       59.000000   \n",
       "mean                     12105.966102   \n",
       "std                       4194.437844   \n",
       "min                       4225.000000   \n",
       "25%                       8821.000000   \n",
       "50%                      11465.000000   \n",
       "75%                      15544.000000   \n",
       "max                      22408.000000   \n",
       "\n",
       "       % Households: With An Internet Subscription   Households.1  \\\n",
       "count                                    59.000000      59.000000   \n",
       "mean                                     74.383390   58043.254237   \n",
       "std                                       8.916904   15810.303860   \n",
       "min                                      57.310000   38041.000000   \n",
       "25%                                      68.720000   46556.000000   \n",
       "50%                                      74.370000   52641.000000   \n",
       "75%                                      80.630000   62605.000000   \n",
       "max                                      90.060000  114838.000000   \n",
       "\n",
       "       Households: Has A Computer  \\\n",
       "count                   59.000000   \n",
       "mean                 48738.559322   \n",
       "std                  16132.559585   \n",
       "min                  30869.000000   \n",
       "25%                  38640.000000   \n",
       "50%                  42576.000000   \n",
       "75%                  52873.500000   \n",
       "max                 108746.000000   \n",
       "\n",
       "       Households: With Dial-Up Internet Subscription Alone  \\\n",
       "count                                          59.000000      \n",
       "mean                                          187.593220      \n",
       "std                                           136.414065      \n",
       "min                                             0.000000      \n",
       "25%                                            82.000000      \n",
       "50%                                           158.000000      \n",
       "75%                                           297.000000      \n",
       "max                                           514.000000      \n",
       "\n",
       "       Households: With A Broadband Internet Subscription  \\\n",
       "count                                          59.000000    \n",
       "mean                                        43105.474576    \n",
       "std                                         16151.874151    \n",
       "min                                         24376.000000    \n",
       "25%                                         31884.000000    \n",
       "50%                                         37199.000000    \n",
       "75%                                         47143.500000    \n",
       "max                                        102849.000000    \n",
       "\n",
       "       Households: Without An Internet Subscription  Households: No Computer  \n",
       "count                                     59.000000                59.000000  \n",
       "mean                                    5445.491525              9304.694915  \n",
       "std                                     2053.307310              3438.676165  \n",
       "min                                     1602.000000              3859.000000  \n",
       "25%                                     3902.000000              6979.000000  \n",
       "50%                                     5342.000000              8892.000000  \n",
       "75%                                     6920.000000             11129.500000  \n",
       "max                                     9903.000000             18612.000000  \n",
       "\n",
       "[8 rows x 29 columns]"
      ]
     },
     "execution_count": 20,
     "metadata": {},
     "output_type": "execute_result"
    }
   ],
   "source": [
    "# Check variables in file\n",
    "df_infr.describe()"
   ]
  },
  {
   "cell_type": "code",
   "execution_count": 21,
   "metadata": {
    "collapsed": false
   },
   "outputs": [
    {
     "data": {
      "text/plain": [
       "'There are 55 unique entries, some of the community districts are combined into one row'"
      ]
     },
     "execution_count": 21,
     "metadata": {},
     "output_type": "execute_result"
    }
   ],
   "source": [
    "# How many community districts are in file? \n",
    "x = len(df_infr['Qualifying Name'].unique())\n",
    "'There are {} unique entries, some of the community districts are combined into one row'.format(x)"
   ]
  },
  {
   "cell_type": "code",
   "execution_count": 22,
   "metadata": {
    "collapsed": false
   },
   "outputs": [
    {
     "data": {
      "text/html": [
       "<div>\n",
       "<table border=\"1\" class=\"dataframe\">\n",
       "  <thead>\n",
       "    <tr style=\"text-align: right;\">\n",
       "      <th></th>\n",
       "      <th>Qualifying Name</th>\n",
       "      <th>TotalWithMobileBroadband</th>\n",
       "      <th>TotalPercWithMobileBroadband</th>\n",
       "    </tr>\n",
       "  </thead>\n",
       "  <tbody>\n",
       "    <tr>\n",
       "      <th>0</th>\n",
       "      <td>NYC-Bronx Community District 8--Riverdale, New...</td>\n",
       "      <td>15359</td>\n",
       "      <td>0.365386</td>\n",
       "    </tr>\n",
       "    <tr>\n",
       "      <th>1</th>\n",
       "      <td>NYC-Bronx Community District 12--Wakefield, Ne...</td>\n",
       "      <td>10486</td>\n",
       "      <td>0.233906</td>\n",
       "    </tr>\n",
       "  </tbody>\n",
       "</table>\n",
       "</div>"
      ],
      "text/plain": [
       "                                     Qualifying Name  \\\n",
       "0  NYC-Bronx Community District 8--Riverdale, New...   \n",
       "1  NYC-Bronx Community District 12--Wakefield, Ne...   \n",
       "\n",
       "   TotalWithMobileBroadband  TotalPercWithMobileBroadband  \n",
       "0                     15359                      0.365386  \n",
       "1                     10486                      0.233906  "
      ]
     },
     "execution_count": 22,
     "metadata": {},
     "output_type": "execute_result"
    }
   ],
   "source": [
    "# Manipulate data to get some information on internet/broadband useage by Community District\n",
    "# Aggregate the mobile subscription data\n",
    "\n",
    "# Select subset of columns\n",
    "df_infr = df_infr[['Qualifying Name', 'Households', 'Households: With Mobile Broadband', \n",
    "                  'Households: With Mobile Broadband.1', 'Households: With Mobile Broadband.2',\n",
    "                 'Households: With Mobile Broadband.3', 'Households: With Mobile Broadband.4']]\n",
    "\n",
    "# Create summary columns\n",
    "df_infr['TotalWithMobileBroadband'] = (df_infr['Households: With Mobile Broadband'] + \n",
    "                                       df_infr['Households: With Mobile Broadband.1'] + \n",
    "                                       df_infr['Households: With Mobile Broadband.2'] + \n",
    "                                       df_infr['Households: With Mobile Broadband.3'] + \n",
    "                                       df_infr['Households: With Mobile Broadband.4'])\n",
    "df_infr['TotalPercWithMobileBroadband'] = df_infr['TotalWithMobileBroadband'] / df_infr['Households']\n",
    "df_infr.drop(df_infr.columns[1:7], axis = 1, inplace = True)\n",
    "df_infr.head(2)"
   ]
  },
  {
   "cell_type": "code",
   "execution_count": 23,
   "metadata": {
    "collapsed": false
   },
   "outputs": [
    {
     "data": {
      "text/html": [
       "<div>\n",
       "<table border=\"1\" class=\"dataframe\">\n",
       "  <thead>\n",
       "    <tr style=\"text-align: right;\">\n",
       "      <th></th>\n",
       "      <th>Qualifying Name</th>\n",
       "      <th>TotalWithMobileBroadband</th>\n",
       "      <th>TotalPercWithMobileBroadband</th>\n",
       "      <th>ID</th>\n",
       "    </tr>\n",
       "  </thead>\n",
       "  <tbody>\n",
       "    <tr>\n",
       "      <th>0</th>\n",
       "      <td>NYC-Bronx Community District 8--Riverdale, New...</td>\n",
       "      <td>15359</td>\n",
       "      <td>0.365386</td>\n",
       "      <td>BX8</td>\n",
       "    </tr>\n",
       "    <tr>\n",
       "      <th>1</th>\n",
       "      <td>NYC-Bronx Community District 12--Wakefield, Ne...</td>\n",
       "      <td>10486</td>\n",
       "      <td>0.233906</td>\n",
       "      <td>BX12</td>\n",
       "    </tr>\n",
       "    <tr>\n",
       "      <th>2</th>\n",
       "      <td>NYC-Bronx Community District 10--Co-op City, N...</td>\n",
       "      <td>11425</td>\n",
       "      <td>0.242827</td>\n",
       "      <td>BX10</td>\n",
       "    </tr>\n",
       "    <tr>\n",
       "      <th>3</th>\n",
       "      <td>NYC-Bronx Community District 11--Pelham Parkwa...</td>\n",
       "      <td>10748</td>\n",
       "      <td>0.239259</td>\n",
       "      <td>BX11</td>\n",
       "    </tr>\n",
       "    <tr>\n",
       "      <th>4</th>\n",
       "      <td>NYC-Bronx Community District 3 &amp; 6--Belmont, N...</td>\n",
       "      <td>14907</td>\n",
       "      <td>0.259000</td>\n",
       "      <td>BX6</td>\n",
       "    </tr>\n",
       "  </tbody>\n",
       "</table>\n",
       "</div>"
      ],
      "text/plain": [
       "                                     Qualifying Name  \\\n",
       "0  NYC-Bronx Community District 8--Riverdale, New...   \n",
       "1  NYC-Bronx Community District 12--Wakefield, Ne...   \n",
       "2  NYC-Bronx Community District 10--Co-op City, N...   \n",
       "3  NYC-Bronx Community District 11--Pelham Parkwa...   \n",
       "4  NYC-Bronx Community District 3 & 6--Belmont, N...   \n",
       "\n",
       "   TotalWithMobileBroadband  TotalPercWithMobileBroadband    ID  \n",
       "0                     15359                      0.365386   BX8  \n",
       "1                     10486                      0.233906  BX12  \n",
       "2                     11425                      0.242827  BX10  \n",
       "3                     10748                      0.239259  BX11  \n",
       "4                     14907                      0.259000   BX6  "
      ]
     },
     "execution_count": 23,
     "metadata": {},
     "output_type": "execute_result"
    }
   ],
   "source": [
    "# Aggregate internet type by high and low connections\n",
    "\n",
    "# Regex Community Number\n",
    "ComNum = []\n",
    "for row in df_infr.iterrows():\n",
    "    ComNum.append(re.findall(\"(\\d+)\", row[1][0]))\n",
    "\n",
    "# Clean rows with representative of 2 community districts\n",
    "myIterator = cycle(range(2))\n",
    "for x in ComNum:\n",
    "    if len(x) > 1:\n",
    "        del x[myIterator.next()]\n",
    "df_infr['ComNum'] = [item for sublist in ComNum for item in sublist]\n",
    " \n",
    "# Regex Community Abbreviation\n",
    "coms = {'Bronx': 'BX', 'Brooklyn': 'BK', 'Manhattan': 'MN', 'Queens': 'QN', 'Staten Island': 'SI'}\n",
    "ComAbb = []\n",
    "for row in df_infr.iterrows(): \n",
    "    for key in coms:\n",
    "        exp = re.compile(key)\n",
    "        if re.search(exp, row[1][0]):\n",
    "            ComAbb.append(coms[key])\n",
    "df_infr['ComAbb'] = ComAbb\n",
    "df_infr['ID'] = df_infr['ComAbb'] + df_infr['ComNum']\n",
    "df_infr.drop(df_infr.columns[3:5], axis = 1, inplace = True)\n",
    "df_infr.head()"
   ]
  },
  {
   "cell_type": "markdown",
   "metadata": {},
   "source": [
    "# 5. Inform your results by linking datasets\n",
    "Now you want to link the three data frames to produce summary statistics for Community Districts which show a high number of complaints vs. Community Districts which show a lower number of complaints. Please keep in mind that the identifiers used for the linkage (Community Dostrict IDs) should be recored the same way. Use regular expressions to harmonize the identifiers if possible. The identifiers should look like BK01, BK02, etc.\n",
    "https://docs.python.org/2/library/re.html"
   ]
  },
  {
   "cell_type": "code",
   "execution_count": 24,
   "metadata": {
    "collapsed": false
   },
   "outputs": [
    {
     "data": {
      "text/html": [
       "<div>\n",
       "<table border=\"1\" class=\"dataframe\">\n",
       "  <thead>\n",
       "    <tr style=\"text-align: right;\">\n",
       "      <th></th>\n",
       "      <th>Community Board</th>\n",
       "      <th>count</th>\n",
       "      <th>ID</th>\n",
       "      <th>ID</th>\n",
       "      <th>PerCapitaIncome</th>\n",
       "      <th>Qualifying Name</th>\n",
       "      <th>TotalWithMobileBroadband</th>\n",
       "      <th>TotalPercWithMobileBroadband</th>\n",
       "      <th>ID</th>\n",
       "    </tr>\n",
       "  </thead>\n",
       "  <tbody>\n",
       "    <tr>\n",
       "      <th>0</th>\n",
       "      <td>01 BRONX</td>\n",
       "      <td>280</td>\n",
       "      <td>BX01</td>\n",
       "      <td>BX08</td>\n",
       "      <td>30730</td>\n",
       "      <td>NYC-Bronx Community District 8--Riverdale, New...</td>\n",
       "      <td>15359</td>\n",
       "      <td>0.365386</td>\n",
       "      <td>BX8</td>\n",
       "    </tr>\n",
       "    <tr>\n",
       "      <th>1</th>\n",
       "      <td>01 BROOKLYN</td>\n",
       "      <td>791</td>\n",
       "      <td>BK01</td>\n",
       "      <td>BX12</td>\n",
       "      <td>21523</td>\n",
       "      <td>NYC-Bronx Community District 12--Wakefield, Ne...</td>\n",
       "      <td>10486</td>\n",
       "      <td>0.233906</td>\n",
       "      <td>BX12</td>\n",
       "    </tr>\n",
       "  </tbody>\n",
       "</table>\n",
       "</div>"
      ],
      "text/plain": [
       "  Community Board  count    ID    ID  PerCapitaIncome  \\\n",
       "0        01 BRONX    280  BX01  BX08            30730   \n",
       "1     01 BROOKLYN    791  BK01  BX12            21523   \n",
       "\n",
       "                                     Qualifying Name  \\\n",
       "0  NYC-Bronx Community District 8--Riverdale, New...   \n",
       "1  NYC-Bronx Community District 12--Wakefield, Ne...   \n",
       "\n",
       "   TotalWithMobileBroadband  TotalPercWithMobileBroadband    ID  \n",
       "0                     15359                      0.365386   BX8  \n",
       "1                     10486                      0.233906  BX12  "
      ]
     },
     "execution_count": 24,
     "metadata": {},
     "output_type": "execute_result"
    }
   ],
   "source": [
    "# Link the 3 dataframes\n",
    "result = pd.concat([df2, df_pop1, df_infr], axis = 1, join='inner')\n",
    "result.head(2)"
   ]
  },
  {
   "cell_type": "code",
   "execution_count": 25,
   "metadata": {
    "collapsed": false
   },
   "outputs": [
    {
     "data": {
      "text/plain": [
       "<matplotlib.legend.Legend at 0x7fcf09095f10>"
      ]
     },
     "execution_count": 25,
     "metadata": {},
     "output_type": "execute_result"
    },
    {
     "data": {
      "image/png": "[encoded data removed]",
      "text/plain": [
       "<matplotlib.figure.Figure at 0x7fce9c363890>"
      ]
     },
     "metadata": {},
     "output_type": "display_data"
    }
   ],
   "source": [
    "# Are the demographics and infrastructure different in Community Districts that show more complaints than others?\n",
    "results = smf.ols('count ~ PerCapitaIncome', data = result).fit()\n",
    "results1 = smf.ols('count ~ TotalPercWithMobileBroadband', data = result).fit()\n",
    "\n",
    "fig, (ax1, ax2) = pl.subplots(nrows = 1, ncols = 2, figsize = (16,5))\n",
    "\n",
    "ax1.scatter(result.PerCapitaIncome, result['count'], label = 'Community District', c = 'k')\n",
    "ax1.plot(result.PerCapitaIncome, results.predict(), c = 'r', label = 'OLS Regression')\n",
    "ax1.set_xlabel('Per Capita Income')\n",
    "ax1.set_ylabel('Complaints')\n",
    "ax1.set_title('Community District Complaints by Per Capita Income')\n",
    "ax1.legend()\n",
    "\n",
    "ax2.scatter(result['TotalPercWithMobileBroadband'], result['count'], label = 'Community District', c = 'k')\n",
    "ax2.plot(result['TotalPercWithMobileBroadband'], results1.predict(), c = 'r', label = 'OLS Regression')\n",
    "ax2.set_xlabel('% of Households with Mobile Broadband')\n",
    "ax2.set_ylabel('Complaints')\n",
    "ax2.set_title('Community District Complaints by % of Households with Mobile Broadband')\n",
    "ax2.legend()"
   ]
  },
  {
   "cell_type": "markdown",
   "metadata": {},
   "source": [
    "#### Figure 1.  Community district complaint counts by per capita income & % of households with mobile broadband. In both cases there are appears to be a limited correlation between either per capita income or % of households with mobile broadband and 311 complaints. However, the per capita income does appear to show some linearity that is being overlooked in the regression as a results of extremely wealthy community districts, who may genuinely have fewer complaints."
   ]
  },
  {
   "cell_type": "code",
   "execution_count": 26,
   "metadata": {
    "collapsed": false
   },
   "outputs": [
    {
     "data": {
      "text/plain": [
       "<matplotlib.legend.Legend at 0x7fcf09084410>"
      ]
     },
     "execution_count": 26,
     "metadata": {},
     "output_type": "execute_result"
    },
    {
     "data": {
      "image/png": "[encoded data removed]",
      "text/plain": [
       "<matplotlib.figure.Figure at 0x7fce9c3cb990>"
      ]
     },
     "metadata": {},
     "output_type": "display_data"
    }
   ],
   "source": [
    "result1 = result.loc[result['PerCapitaIncome'] < 60000]\n",
    "results2 = smf.ols('count ~ PerCapitaIncome', data = result1).fit()\n",
    "\n",
    "fig, (ax3) = pl.subplots(nrows = 1, ncols = 1, figsize = (16,5))\n",
    "\n",
    "ax3.scatter(result1.PerCapitaIncome, result1['count'], label = 'Community District', c = 'k')\n",
    "ax3.plot(result1.PerCapitaIncome, results2.predict(), c = 'r', label = 'OLS Regression')\n",
    "ax3.set_xlabel('Per Capita Income')\n",
    "ax3.set_ylabel('Complaints')\n",
    "ax3.set_title('Community District Complaints by Per Capita Income (Excluding the Super Rich)')\n",
    "ax3.legend()"
   ]
  },
  {
   "cell_type": "markdown",
   "metadata": {},
   "source": [
    "#### Figure 2. Community district complaints by per capita income when exlucing the super rich (>60,000). As illustrated, the per capita income of a community district shows a modest correlation with the amount of 311 complaints."
   ]
  },
  {
   "cell_type": "code",
   "execution_count": 27,
   "metadata": {
    "collapsed": false
   },
   "outputs": [
    {
     "data": {
      "text/html": [
       "<div>\n",
       "<table border=\"1\" class=\"dataframe\">\n",
       "  <thead>\n",
       "    <tr style=\"text-align: right;\">\n",
       "      <th></th>\n",
       "      <th>count</th>\n",
       "      <th>PerCapitaIncome</th>\n",
       "      <th>TotalWithMobileBroadband</th>\n",
       "      <th>TotalPercWithMobileBroadband</th>\n",
       "    </tr>\n",
       "  </thead>\n",
       "  <tbody>\n",
       "    <tr>\n",
       "      <th>count</th>\n",
       "      <td>1.000000</td>\n",
       "      <td>0.105635</td>\n",
       "      <td>0.085313</td>\n",
       "      <td>0.035705</td>\n",
       "    </tr>\n",
       "    <tr>\n",
       "      <th>PerCapitaIncome</th>\n",
       "      <td>0.105635</td>\n",
       "      <td>1.000000</td>\n",
       "      <td>0.868438</td>\n",
       "      <td>0.760617</td>\n",
       "    </tr>\n",
       "    <tr>\n",
       "      <th>TotalWithMobileBroadband</th>\n",
       "      <td>0.085313</td>\n",
       "      <td>0.868438</td>\n",
       "      <td>1.000000</td>\n",
       "      <td>0.879789</td>\n",
       "    </tr>\n",
       "    <tr>\n",
       "      <th>TotalPercWithMobileBroadband</th>\n",
       "      <td>0.035705</td>\n",
       "      <td>0.760617</td>\n",
       "      <td>0.879789</td>\n",
       "      <td>1.000000</td>\n",
       "    </tr>\n",
       "  </tbody>\n",
       "</table>\n",
       "</div>"
      ],
      "text/plain": [
       "                                 count  PerCapitaIncome  \\\n",
       "count                         1.000000         0.105635   \n",
       "PerCapitaIncome               0.105635         1.000000   \n",
       "TotalWithMobileBroadband      0.085313         0.868438   \n",
       "TotalPercWithMobileBroadband  0.035705         0.760617   \n",
       "\n",
       "                              TotalWithMobileBroadband  \\\n",
       "count                                         0.085313   \n",
       "PerCapitaIncome                               0.868438   \n",
       "TotalWithMobileBroadband                      1.000000   \n",
       "TotalPercWithMobileBroadband                  0.879789   \n",
       "\n",
       "                              TotalPercWithMobileBroadband  \n",
       "count                                             0.035705  \n",
       "PerCapitaIncome                                   0.760617  \n",
       "TotalWithMobileBroadband                          0.879789  \n",
       "TotalPercWithMobileBroadband                      1.000000  "
      ]
     },
     "execution_count": 27,
     "metadata": {},
     "output_type": "execute_result"
    }
   ],
   "source": [
    "result.corr()"
   ]
  },
  {
   "cell_type": "markdown",
   "metadata": {},
   "source": [
    "#### Table 1. Correlation table of dataset including all community districts. As expected, there limited correlations between per capita income or % of households with mobile broadband and 311 complaints."
   ]
  },
  {
   "cell_type": "code",
   "execution_count": 28,
   "metadata": {
    "collapsed": false
   },
   "outputs": [
    {
     "data": {
      "text/html": [
       "<div>\n",
       "<table border=\"1\" class=\"dataframe\">\n",
       "  <thead>\n",
       "    <tr style=\"text-align: right;\">\n",
       "      <th></th>\n",
       "      <th>count</th>\n",
       "      <th>PerCapitaIncome</th>\n",
       "      <th>TotalWithMobileBroadband</th>\n",
       "      <th>TotalPercWithMobileBroadband</th>\n",
       "    </tr>\n",
       "  </thead>\n",
       "  <tbody>\n",
       "    <tr>\n",
       "      <th>count</th>\n",
       "      <td>1.000000</td>\n",
       "      <td>0.194241</td>\n",
       "      <td>-0.008011</td>\n",
       "      <td>-0.018825</td>\n",
       "    </tr>\n",
       "    <tr>\n",
       "      <th>PerCapitaIncome</th>\n",
       "      <td>0.194241</td>\n",
       "      <td>1.000000</td>\n",
       "      <td>0.284909</td>\n",
       "      <td>0.223162</td>\n",
       "    </tr>\n",
       "    <tr>\n",
       "      <th>TotalWithMobileBroadband</th>\n",
       "      <td>-0.008011</td>\n",
       "      <td>0.284909</td>\n",
       "      <td>1.000000</td>\n",
       "      <td>0.798054</td>\n",
       "    </tr>\n",
       "    <tr>\n",
       "      <th>TotalPercWithMobileBroadband</th>\n",
       "      <td>-0.018825</td>\n",
       "      <td>0.223162</td>\n",
       "      <td>0.798054</td>\n",
       "      <td>1.000000</td>\n",
       "    </tr>\n",
       "  </tbody>\n",
       "</table>\n",
       "</div>"
      ],
      "text/plain": [
       "                                 count  PerCapitaIncome  \\\n",
       "count                         1.000000         0.194241   \n",
       "PerCapitaIncome               0.194241         1.000000   \n",
       "TotalWithMobileBroadband     -0.008011         0.284909   \n",
       "TotalPercWithMobileBroadband -0.018825         0.223162   \n",
       "\n",
       "                              TotalWithMobileBroadband  \\\n",
       "count                                        -0.008011   \n",
       "PerCapitaIncome                               0.284909   \n",
       "TotalWithMobileBroadband                      1.000000   \n",
       "TotalPercWithMobileBroadband                  0.798054   \n",
       "\n",
       "                              TotalPercWithMobileBroadband  \n",
       "count                                            -0.018825  \n",
       "PerCapitaIncome                                   0.223162  \n",
       "TotalWithMobileBroadband                          0.798054  \n",
       "TotalPercWithMobileBroadband                      1.000000  "
      ]
     },
     "execution_count": 28,
     "metadata": {},
     "output_type": "execute_result"
    }
   ],
   "source": [
    "result1.corr()"
   ]
  },
  {
   "cell_type": "markdown",
   "metadata": {},
   "source": [
    "#### Table 2. Correlation table of data excluding community districts where the per capita income is greater than 60,000. Again as expected, the per capita income shows a modest correlation between per capita income and 311 complaints. "
   ]
  },
  {
   "cell_type": "markdown",
   "metadata": {},
   "source": [
    "# Conclusion\n",
    "#### In conclusion, when using the full dataset of community districts, the amount of 311 complaints would be highest where per capita income and percent of households with mobile broadband is highest. However, when excluding wealthy neighborhoods with per capita income in excess of 60,000, only per capita income correlates positively with 311 complaints."
   ]
  }
 ],
 "metadata": {
  "celltoolbar": "Raw Cell Format",
  "kernelspec": {
   "display_name": "PUI2016_Python2",
   "language": "python",
   "name": "pui2016_python2"
  },
  "language_info": {
   "codemirror_mode": {
    "name": "ipython",
    "version": 2
   },
   "file_extension": ".py",
   "mimetype": "text/x-python",
   "name": "python",
   "nbconvert_exporter": "python",
   "pygments_lexer": "ipython2",
   "version": "2.7.12"
  }
 },
 "nbformat": 4,
 "nbformat_minor": 0
}
